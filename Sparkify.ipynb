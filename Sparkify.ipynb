{
 "cells": [
  {
   "cell_type": "markdown",
   "metadata": {},
   "source": [
    "# Sparkify Project Workspace\n",
    "This workspace contains a tiny subset (128MB) of the full dataset available (12GB). Feel free to use this workspace to build your project, or to explore a smaller subset with Spark before deploying your cluster on the cloud. Instructions for setting up your Spark cluster is included in the last lesson of the Extracurricular Spark Course content.\n",
    "\n",
    "You can follow the steps below to guide your data analysis and model building portion of this project."
   ]
  },
  {
   "cell_type": "code",
   "execution_count": 1,
   "metadata": {},
   "outputs": [],
   "source": [
    "# import libraries\n",
    "from pyspark import SparkConf\n",
    "from pyspark.sql import SparkSession\n",
    "from pyspark.sql import Window\n",
    "\n",
    "from pyspark.sql.functions import *\n",
    "from pyspark.sql.types import *\n",
    "\n",
    "import numpy as np\n",
    "import pandas as pd\n",
    "import datetime\n",
    "from time import time\n",
    "import matplotlib.pyplot as plt\n",
    "import matplotlib.colors as mcolors\n",
    "import seaborn as sns\n",
    "\n",
    "from pyspark.ml import Pipeline\n",
    "from pyspark.ml.feature import StringIndexer, OneHotEncoderEstimator, VectorAssembler, MinMaxScaler\n",
    "from pyspark.ml.classification import (NaiveBayes, LogisticRegression, DecisionTreeClassifier, RandomForestClassifier, LinearSVC)\n",
    "from pyspark.ml.evaluation import MulticlassClassificationEvaluator, BinaryClassificationEvaluator\n",
    "from pyspark.ml.tuning import CrossValidator, ParamGridBuilder\n",
    "\n",
    "%matplotlib inline"
   ]
  },
  {
   "cell_type": "code",
   "execution_count": 2,
   "metadata": {},
   "outputs": [],
   "source": [
    "# Spark session\n",
    "spark = SparkSession \\\n",
    "    .builder \\\n",
    "    .appName(\"Sparkify\") \\\n",
    "    .getOrCreate()"
   ]
  },
  {
   "cell_type": "code",
   "execution_count": 3,
   "metadata": {},
   "outputs": [
    {
     "data": {
      "text/html": [
       "\n",
       "            <div>\n",
       "                <p><b>SparkSession - in-memory</b></p>\n",
       "                \n",
       "        <div>\n",
       "            <p><b>SparkContext</b></p>\n",
       "\n",
       "            <p><a href=\"http://da800a88a5e0:4040\">Spark UI</a></p>\n",
       "\n",
       "            <dl>\n",
       "              <dt>Version</dt>\n",
       "                <dd><code>v2.4.3</code></dd>\n",
       "              <dt>Master</dt>\n",
       "                <dd><code>local[*]</code></dd>\n",
       "              <dt>AppName</dt>\n",
       "                <dd><code>Sparkify</code></dd>\n",
       "            </dl>\n",
       "        </div>\n",
       "        \n",
       "            </div>\n",
       "        "
      ],
      "text/plain": [
       "<pyspark.sql.session.SparkSession at 0x7f6d32c6d278>"
      ]
     },
     "execution_count": 3,
     "metadata": {},
     "output_type": "execute_result"
    }
   ],
   "source": [
    "# checking the Spark session\n",
    "spark.sparkContext.getConf().getAll()\n",
    "spark"
   ]
  },
  {
   "cell_type": "markdown",
   "metadata": {},
   "source": [
    "# Load and Clean Dataset\n",
    "In this workspace, the mini-dataset file is `mini_sparkify_event_data.json`. Load and clean the dataset, checking for invalid or missing data - for example, records without userids or sessionids. "
   ]
  },
  {
   "cell_type": "code",
   "execution_count": 4,
   "metadata": {},
   "outputs": [
    {
     "name": "stdout",
     "output_type": "stream",
     "text": [
      "root\n",
      " |-- artist: string (nullable = true)\n",
      " |-- auth: string (nullable = true)\n",
      " |-- firstName: string (nullable = true)\n",
      " |-- gender: string (nullable = true)\n",
      " |-- itemInSession: long (nullable = true)\n",
      " |-- lastName: string (nullable = true)\n",
      " |-- length: double (nullable = true)\n",
      " |-- level: string (nullable = true)\n",
      " |-- location: string (nullable = true)\n",
      " |-- method: string (nullable = true)\n",
      " |-- page: string (nullable = true)\n",
      " |-- registration: long (nullable = true)\n",
      " |-- sessionId: long (nullable = true)\n",
      " |-- song: string (nullable = true)\n",
      " |-- status: long (nullable = true)\n",
      " |-- ts: long (nullable = true)\n",
      " |-- userAgent: string (nullable = true)\n",
      " |-- userId: string (nullable = true)\n",
      "\n"
     ]
    }
   ],
   "source": [
    "# define path and load json file as dataframe\n",
    "path = \"mini_sparkify_event_data.json\"\n",
    "df = spark.read.json(path)\n",
    "\n",
    "# check dataframe structure\n",
    "df.printSchema()"
   ]
  },
  {
   "cell_type": "markdown",
   "metadata": {},
   "source": [
    "#### 18 columns in total, 12 strings and 6 numerical"
   ]
  },
  {
   "cell_type": "code",
   "execution_count": 5,
   "metadata": {},
   "outputs": [
    {
     "data": {
      "text/plain": [
       "(286500, 18)"
      ]
     },
     "execution_count": 5,
     "metadata": {},
     "output_type": "execute_result"
    }
   ],
   "source": [
    "df.toPandas().shape"
   ]
  },
  {
   "cell_type": "code",
   "execution_count": 6,
   "metadata": {},
   "outputs": [
    {
     "data": {
      "text/html": [
       "<div>\n",
       "<style scoped>\n",
       "    .dataframe tbody tr th:only-of-type {\n",
       "        vertical-align: middle;\n",
       "    }\n",
       "\n",
       "    .dataframe tbody tr th {\n",
       "        vertical-align: top;\n",
       "    }\n",
       "\n",
       "    .dataframe thead th {\n",
       "        text-align: right;\n",
       "    }\n",
       "</style>\n",
       "<table border=\"1\" class=\"dataframe\">\n",
       "  <thead>\n",
       "    <tr style=\"text-align: right;\">\n",
       "      <th></th>\n",
       "      <th>artist</th>\n",
       "      <th>auth</th>\n",
       "      <th>firstName</th>\n",
       "      <th>gender</th>\n",
       "      <th>itemInSession</th>\n",
       "      <th>lastName</th>\n",
       "      <th>length</th>\n",
       "      <th>level</th>\n",
       "      <th>location</th>\n",
       "      <th>method</th>\n",
       "      <th>page</th>\n",
       "      <th>registration</th>\n",
       "      <th>sessionId</th>\n",
       "      <th>song</th>\n",
       "      <th>status</th>\n",
       "      <th>ts</th>\n",
       "      <th>userAgent</th>\n",
       "      <th>userId</th>\n",
       "    </tr>\n",
       "  </thead>\n",
       "  <tbody>\n",
       "    <tr>\n",
       "      <th>0</th>\n",
       "      <td>Martha Tilston</td>\n",
       "      <td>Logged In</td>\n",
       "      <td>Colin</td>\n",
       "      <td>M</td>\n",
       "      <td>50</td>\n",
       "      <td>Freeman</td>\n",
       "      <td>277.89016</td>\n",
       "      <td>paid</td>\n",
       "      <td>Bakersfield, CA</td>\n",
       "      <td>PUT</td>\n",
       "      <td>NextSong</td>\n",
       "      <td>1.538173e+12</td>\n",
       "      <td>29</td>\n",
       "      <td>Rockpools</td>\n",
       "      <td>200</td>\n",
       "      <td>1538352117000</td>\n",
       "      <td>Mozilla/5.0 (Windows NT 6.1; WOW64; rv:31.0) G...</td>\n",
       "      <td>30</td>\n",
       "    </tr>\n",
       "    <tr>\n",
       "      <th>1</th>\n",
       "      <td>Five Iron Frenzy</td>\n",
       "      <td>Logged In</td>\n",
       "      <td>Micah</td>\n",
       "      <td>M</td>\n",
       "      <td>79</td>\n",
       "      <td>Long</td>\n",
       "      <td>236.09424</td>\n",
       "      <td>free</td>\n",
       "      <td>Boston-Cambridge-Newton, MA-NH</td>\n",
       "      <td>PUT</td>\n",
       "      <td>NextSong</td>\n",
       "      <td>1.538332e+12</td>\n",
       "      <td>8</td>\n",
       "      <td>Canada</td>\n",
       "      <td>200</td>\n",
       "      <td>1538352180000</td>\n",
       "      <td>\"Mozilla/5.0 (Windows NT 6.1; WOW64) AppleWebK...</td>\n",
       "      <td>9</td>\n",
       "    </tr>\n",
       "    <tr>\n",
       "      <th>2</th>\n",
       "      <td>Adam Lambert</td>\n",
       "      <td>Logged In</td>\n",
       "      <td>Colin</td>\n",
       "      <td>M</td>\n",
       "      <td>51</td>\n",
       "      <td>Freeman</td>\n",
       "      <td>282.82730</td>\n",
       "      <td>paid</td>\n",
       "      <td>Bakersfield, CA</td>\n",
       "      <td>PUT</td>\n",
       "      <td>NextSong</td>\n",
       "      <td>1.538173e+12</td>\n",
       "      <td>29</td>\n",
       "      <td>Time For Miracles</td>\n",
       "      <td>200</td>\n",
       "      <td>1538352394000</td>\n",
       "      <td>Mozilla/5.0 (Windows NT 6.1; WOW64; rv:31.0) G...</td>\n",
       "      <td>30</td>\n",
       "    </tr>\n",
       "    <tr>\n",
       "      <th>3</th>\n",
       "      <td>Enigma</td>\n",
       "      <td>Logged In</td>\n",
       "      <td>Micah</td>\n",
       "      <td>M</td>\n",
       "      <td>80</td>\n",
       "      <td>Long</td>\n",
       "      <td>262.71302</td>\n",
       "      <td>free</td>\n",
       "      <td>Boston-Cambridge-Newton, MA-NH</td>\n",
       "      <td>PUT</td>\n",
       "      <td>NextSong</td>\n",
       "      <td>1.538332e+12</td>\n",
       "      <td>8</td>\n",
       "      <td>Knocking On Forbidden Doors</td>\n",
       "      <td>200</td>\n",
       "      <td>1538352416000</td>\n",
       "      <td>\"Mozilla/5.0 (Windows NT 6.1; WOW64) AppleWebK...</td>\n",
       "      <td>9</td>\n",
       "    </tr>\n",
       "    <tr>\n",
       "      <th>4</th>\n",
       "      <td>Daft Punk</td>\n",
       "      <td>Logged In</td>\n",
       "      <td>Colin</td>\n",
       "      <td>M</td>\n",
       "      <td>52</td>\n",
       "      <td>Freeman</td>\n",
       "      <td>223.60771</td>\n",
       "      <td>paid</td>\n",
       "      <td>Bakersfield, CA</td>\n",
       "      <td>PUT</td>\n",
       "      <td>NextSong</td>\n",
       "      <td>1.538173e+12</td>\n",
       "      <td>29</td>\n",
       "      <td>Harder Better Faster Stronger</td>\n",
       "      <td>200</td>\n",
       "      <td>1538352676000</td>\n",
       "      <td>Mozilla/5.0 (Windows NT 6.1; WOW64; rv:31.0) G...</td>\n",
       "      <td>30</td>\n",
       "    </tr>\n",
       "  </tbody>\n",
       "</table>\n",
       "</div>"
      ],
      "text/plain": [
       "             artist       auth firstName gender  itemInSession lastName  \\\n",
       "0    Martha Tilston  Logged In     Colin      M             50  Freeman   \n",
       "1  Five Iron Frenzy  Logged In     Micah      M             79     Long   \n",
       "2      Adam Lambert  Logged In     Colin      M             51  Freeman   \n",
       "3            Enigma  Logged In     Micah      M             80     Long   \n",
       "4         Daft Punk  Logged In     Colin      M             52  Freeman   \n",
       "\n",
       "      length level                        location method      page  \\\n",
       "0  277.89016  paid                 Bakersfield, CA    PUT  NextSong   \n",
       "1  236.09424  free  Boston-Cambridge-Newton, MA-NH    PUT  NextSong   \n",
       "2  282.82730  paid                 Bakersfield, CA    PUT  NextSong   \n",
       "3  262.71302  free  Boston-Cambridge-Newton, MA-NH    PUT  NextSong   \n",
       "4  223.60771  paid                 Bakersfield, CA    PUT  NextSong   \n",
       "\n",
       "   registration  sessionId                           song  status  \\\n",
       "0  1.538173e+12         29                      Rockpools     200   \n",
       "1  1.538332e+12          8                         Canada     200   \n",
       "2  1.538173e+12         29              Time For Miracles     200   \n",
       "3  1.538332e+12          8    Knocking On Forbidden Doors     200   \n",
       "4  1.538173e+12         29  Harder Better Faster Stronger     200   \n",
       "\n",
       "              ts                                          userAgent userId  \n",
       "0  1538352117000  Mozilla/5.0 (Windows NT 6.1; WOW64; rv:31.0) G...     30  \n",
       "1  1538352180000  \"Mozilla/5.0 (Windows NT 6.1; WOW64) AppleWebK...      9  \n",
       "2  1538352394000  Mozilla/5.0 (Windows NT 6.1; WOW64; rv:31.0) G...     30  \n",
       "3  1538352416000  \"Mozilla/5.0 (Windows NT 6.1; WOW64) AppleWebK...      9  \n",
       "4  1538352676000  Mozilla/5.0 (Windows NT 6.1; WOW64; rv:31.0) G...     30  "
      ]
     },
     "execution_count": 6,
     "metadata": {},
     "output_type": "execute_result"
    }
   ],
   "source": [
    "# checking how data looks\n",
    "df.toPandas().head()"
   ]
  },
  {
   "cell_type": "code",
   "execution_count": 7,
   "metadata": {},
   "outputs": [
    {
     "name": "stdout",
     "output_type": "stream",
     "text": [
      "+-------+------------------+\n",
      "|summary|            artist|\n",
      "+-------+------------------+\n",
      "|  count|            228108|\n",
      "|   mean| 551.0852017937219|\n",
      "| stddev|1217.7693079161374|\n",
      "|    min|               !!!|\n",
      "|    max| ÃÂlafur Arnalds|\n",
      "+-------+------------------+\n",
      "\n"
     ]
    }
   ],
   "source": [
    "df.describe(['artist']).show()"
   ]
  },
  {
   "cell_type": "markdown",
   "metadata": {},
   "source": [
    "Random characters appear for artist "
   ]
  },
  {
   "cell_type": "code",
   "execution_count": 8,
   "metadata": {},
   "outputs": [
    {
     "name": "stdout",
     "output_type": "stream",
     "text": [
      "+----------+------+\n",
      "|      auth| count|\n",
      "+----------+------+\n",
      "| Logged In|278102|\n",
      "|Logged Out|  8249|\n",
      "|     Guest|    97|\n",
      "| Cancelled|    52|\n",
      "+----------+------+\n",
      "\n"
     ]
    }
   ],
   "source": [
    "df.groupBy('auth').count().sort(desc('count')).show()"
   ]
  },
  {
   "cell_type": "code",
   "execution_count": 9,
   "metadata": {},
   "outputs": [
    {
     "name": "stdout",
     "output_type": "stream",
     "text": [
      "+------+------+\n",
      "|gender| count|\n",
      "+------+------+\n",
      "|     F|154578|\n",
      "|     M|123576|\n",
      "|  null|  8346|\n",
      "+------+------+\n",
      "\n"
     ]
    }
   ],
   "source": [
    "df.groupBy('gender').count().sort(desc('count')).show()"
   ]
  },
  {
   "cell_type": "code",
   "execution_count": 10,
   "metadata": {},
   "outputs": [
    {
     "name": "stdout",
     "output_type": "stream",
     "text": [
      "+-----+------+\n",
      "|level| count|\n",
      "+-----+------+\n",
      "| paid|228162|\n",
      "| free| 58338|\n",
      "+-----+------+\n",
      "\n"
     ]
    }
   ],
   "source": [
    "df.groupBy('level').count().sort(desc('count')).show()"
   ]
  },
  {
   "cell_type": "code",
   "execution_count": 11,
   "metadata": {},
   "outputs": [
    {
     "name": "stdout",
     "output_type": "stream",
     "text": [
      "+-------+------+-------+--------------------+-----------------+\n",
      "|summary|method|   page|        registration|        sessionId|\n",
      "+-------+------+-------+--------------------+-----------------+\n",
      "|  count|286500| 286500|              278154|           286500|\n",
      "|   mean|  null|   null|1.535358834084427...|1041.526554973822|\n",
      "| stddev|  null|   null| 3.291321616327586E9|726.7762634630741|\n",
      "|    min|   GET|  About|       1521380675000|                1|\n",
      "|    max|   PUT|Upgrade|       1543247354000|             2474|\n",
      "+-------+------+-------+--------------------+-----------------+\n",
      "\n"
     ]
    }
   ],
   "source": [
    "df.describe(['method', 'page', 'registration', 'sessionId']).show()"
   ]
  },
  {
   "cell_type": "code",
   "execution_count": 12,
   "metadata": {},
   "outputs": [
    {
     "name": "stdout",
     "output_type": "stream",
     "text": [
      "+------+------+\n",
      "|method| count|\n",
      "+------+------+\n",
      "|   PUT|261064|\n",
      "|   GET| 25436|\n",
      "+------+------+\n",
      "\n"
     ]
    }
   ],
   "source": [
    "df.groupBy('method').count().sort(desc('count')).show()"
   ]
  },
  {
   "cell_type": "code",
   "execution_count": 13,
   "metadata": {},
   "outputs": [
    {
     "name": "stdout",
     "output_type": "stream",
     "text": [
      "+-------------------------+------+\n",
      "|page                     |count |\n",
      "+-------------------------+------+\n",
      "|NextSong                 |228108|\n",
      "|Home                     |14457 |\n",
      "|Thumbs Up                |12551 |\n",
      "|Add to Playlist          |6526  |\n",
      "|Add Friend               |4277  |\n",
      "|Roll Advert              |3933  |\n",
      "|Login                    |3241  |\n",
      "|Logout                   |3226  |\n",
      "|Thumbs Down              |2546  |\n",
      "|Downgrade                |2055  |\n",
      "|Help                     |1726  |\n",
      "|Settings                 |1514  |\n",
      "|About                    |924   |\n",
      "|Upgrade                  |499   |\n",
      "|Save Settings            |310   |\n",
      "|Error                    |258   |\n",
      "|Submit Upgrade           |159   |\n",
      "|Submit Downgrade         |63    |\n",
      "|Cancel                   |52    |\n",
      "|Cancellation Confirmation|52    |\n",
      "|Register                 |18    |\n",
      "|Submit Registration      |5     |\n",
      "+-------------------------+------+\n",
      "\n"
     ]
    }
   ],
   "source": [
    "df.groupBy('page').count().sort(desc('count')).show(30, truncate=False)"
   ]
  },
  {
   "cell_type": "code",
   "execution_count": 14,
   "metadata": {},
   "outputs": [
    {
     "name": "stdout",
     "output_type": "stream",
     "text": [
      "+-------+--------------------+\n",
      "|summary|                song|\n",
      "+-------+--------------------+\n",
      "|  count|              228108|\n",
      "|   mean|            Infinity|\n",
      "| stddev|                 NaN|\n",
      "|    min|\u001c",
      "ÃÂg ÃÂtti Gr...|\n",
      "|    max|ÃÂau hafa slopp...|\n",
      "+-------+--------------------+\n",
      "\n"
     ]
    }
   ],
   "source": [
    "df.describe(['song']).show()"
   ]
  },
  {
   "cell_type": "markdown",
   "metadata": {},
   "source": [
    "Random characters appear for song as well"
   ]
  },
  {
   "cell_type": "code",
   "execution_count": 15,
   "metadata": {},
   "outputs": [
    {
     "name": "stdout",
     "output_type": "stream",
     "text": [
      "+-------+------------------+--------------------+--------------------+-----------------+\n",
      "|summary|            status|                  ts|           userAgent|           userId|\n",
      "+-------+------------------+--------------------+--------------------+-----------------+\n",
      "|  count|            286500|              286500|              278154|           286500|\n",
      "|   mean|210.05459685863875|1.540956889810483...|                null|59682.02278593872|\n",
      "| stddev| 31.50507848842214|1.5075439608226302E9|                null|109091.9499991047|\n",
      "|    min|               200|       1538352117000|\"Mozilla/5.0 (Mac...|                 |\n",
      "|    max|               404|       1543799476000|Mozilla/5.0 (comp...|               99|\n",
      "+-------+------------------+--------------------+--------------------+-----------------+\n",
      "\n"
     ]
    }
   ],
   "source": [
    "df.describe(['status', 'ts', 'userAgent', 'userId']).show()"
   ]
  },
  {
   "cell_type": "markdown",
   "metadata": {},
   "source": [
    "userId has blanks appearing"
   ]
  },
  {
   "cell_type": "code",
   "execution_count": 16,
   "metadata": {},
   "outputs": [
    {
     "name": "stdout",
     "output_type": "stream",
     "text": [
      "+------+------+\n",
      "|status| count|\n",
      "+------+------+\n",
      "|   307| 26430|\n",
      "|   404|   258|\n",
      "|   200|259812|\n",
      "+------+------+\n",
      "\n"
     ]
    }
   ],
   "source": [
    "df.groupBy('status').count().show()"
   ]
  },
  {
   "cell_type": "code",
   "execution_count": 17,
   "metadata": {},
   "outputs": [
    {
     "name": "stdout",
     "output_type": "stream",
     "text": [
      "+------+----+---------+------+-------------+--------+------+-----+--------+------+----+------------+---------+-----+------+---+---------+------+\n",
      "|artist|auth|firstName|gender|itemInSession|lastName|length|level|location|method|page|registration|sessionId| song|status| ts|userAgent|userId|\n",
      "+------+----+---------+------+-------------+--------+------+-----+--------+------+----+------------+---------+-----+------+---+---------+------+\n",
      "| 58392|   0|     8346|  8346|            0|    8346| 58392|    0|    8346|     0|   0|        8346|        0|58392|     0|  0|     8346|     0|\n",
      "+------+----+---------+------+-------------+--------+------+-----+--------+------+----+------------+---------+-----+------+---+---------+------+\n",
      "\n"
     ]
    }
   ],
   "source": [
    "# find NaNs and Nulls in dataframe\n",
    "\n",
    "df.select([count(when(isnan(c) | col(c).isNull(), c)).alias(c) for c in df.columns]).show()"
   ]
  },
  {
   "cell_type": "markdown",
   "metadata": {},
   "source": [
    "artist, length, song have the same number of missing cases (58392) - probably data relates to the same instance\n",
    "\n",
    "firstName, gender, lastName, location, registration, userAgent have the same number of missing cases (8346) - indicating that there is no information present for these cases"
   ]
  },
  {
   "cell_type": "code",
   "execution_count": 18,
   "metadata": {},
   "outputs": [
    {
     "name": "stdout",
     "output_type": "stream",
     "text": [
      "+------+----+---------+------+-------------+--------+------+-----+--------+------+----+------------+---------+----+------+---+---------+------+\n",
      "|artist|auth|firstName|gender|itemInSession|lastName|length|level|location|method|page|registration|sessionId|song|status| ts|userAgent|userId|\n",
      "+------+----+---------+------+-------------+--------+------+-----+--------+------+----+------------+---------+----+------+---+---------+------+\n",
      "|     0|   0|        0|     0|            0|       0|     0|    0|       0|     0|   0|           0|        0|   0|     0|  0|        0|  8346|\n",
      "+------+----+---------+------+-------------+--------+------+-----+--------+------+----+------------+---------+----+------+---+---------+------+\n",
      "\n"
     ]
    }
   ],
   "source": [
    "# find empty strings in dataframe\n",
    "df.select([count(when(col(c) == '', c)).alias(c) for c in df.columns]).show()"
   ]
  },
  {
   "cell_type": "markdown",
   "metadata": {},
   "source": [
    "only userId contains empty strings, and the number of missing cases is the same as above (8346)"
   ]
  },
  {
   "cell_type": "code",
   "execution_count": 19,
   "metadata": {},
   "outputs": [
    {
     "name": "stdout",
     "output_type": "stream",
     "text": [
      "+----------+-----+\n",
      "|      auth|count|\n",
      "+----------+-----+\n",
      "|Logged Out| 8249|\n",
      "|     Guest|   97|\n",
      "+----------+-----+\n",
      "\n"
     ]
    }
   ],
   "source": [
    "# print distinct values for column 'auth' where 'userId' is empty\n",
    "df.select('auth').where(col('userId') == '').groupBy('auth').count().show()"
   ]
  },
  {
   "cell_type": "markdown",
   "metadata": {},
   "source": [
    "where userId is blank, the auth column has values Logged Out and Guest, which is the reason why the values are missing.  Those records are deleted below"
   ]
  },
  {
   "cell_type": "code",
   "execution_count": 20,
   "metadata": {},
   "outputs": [],
   "source": [
    "# drop rows with no user data (Logged Out or Guest)\n",
    "df_clean = df.where(col('userId') != '')"
   ]
  },
  {
   "cell_type": "code",
   "execution_count": 21,
   "metadata": {},
   "outputs": [
    {
     "name": "stdout",
     "output_type": "stream",
     "text": [
      "+------+----+---------+------+-------------+--------+------+-----+--------+------+----+------------+---------+-----+------+---+---------+------+\n",
      "|artist|auth|firstName|gender|itemInSession|lastName|length|level|location|method|page|registration|sessionId| song|status| ts|userAgent|userId|\n",
      "+------+----+---------+------+-------------+--------+------+-----+--------+------+----+------------+---------+-----+------+---+---------+------+\n",
      "| 50046|   0|        0|     0|            0|       0| 50046|    0|       0|     0|   0|           0|        0|50046|     0|  0|        0|     0|\n",
      "+------+----+---------+------+-------------+--------+------+-----+--------+------+----+------------+---------+-----+------+---+---------+------+\n",
      "\n"
     ]
    }
   ],
   "source": [
    "# check NaNs and Nulls in new dataframe\n",
    "df_clean.select([count(when(isnan(c) | col(c).isNull(), c)).alias(c) for c in df_clean.columns]).show()"
   ]
  },
  {
   "cell_type": "code",
   "execution_count": 22,
   "metadata": {},
   "outputs": [],
   "source": [
    "# udf to convert timestamp to correct format\n",
    "\n",
    "get_timestamp = udf(lambda x: datetime.datetime.fromtimestamp(x/1000.0).strftime('%Y-%m-%d %H:%M:%S'))\n",
    "\n",
    "# apply udf to registration timestamp\n",
    "df_clean = df_clean.withColumn('registration', get_timestamp(df_clean['registration']))\n",
    "\n",
    "# apply udf to ts timestamp\n",
    "df_clean = df_clean.withColumn('ts', get_timestamp(df_clean['ts']))"
   ]
  },
  {
   "cell_type": "code",
   "execution_count": 23,
   "metadata": {},
   "outputs": [
    {
     "name": "stdout",
     "output_type": "stream",
     "text": [
      "+-------------------+\n",
      "|       registration|\n",
      "+-------------------+\n",
      "|2018-09-28 22:22:42|\n",
      "|2018-09-30 18:20:30|\n",
      "|2018-09-28 22:22:42|\n",
      "|2018-09-30 18:20:30|\n",
      "|2018-09-28 22:22:42|\n",
      "|2018-09-30 18:20:30|\n",
      "|2018-09-30 18:20:30|\n",
      "|2018-09-28 22:22:42|\n",
      "|2018-09-28 22:22:42|\n",
      "|2018-09-28 22:22:42|\n",
      "|2018-09-30 18:20:30|\n",
      "|2018-09-30 18:20:30|\n",
      "|2018-09-28 22:22:42|\n",
      "|2018-09-30 18:20:30|\n",
      "|2018-09-30 18:20:30|\n",
      "|2018-09-28 22:22:42|\n",
      "|2018-09-30 18:20:30|\n",
      "|2018-09-19 13:53:39|\n",
      "|2018-09-28 22:22:42|\n",
      "|2018-09-30 18:20:30|\n",
      "+-------------------+\n",
      "only showing top 20 rows\n",
      "\n"
     ]
    }
   ],
   "source": [
    "df_clean.select('registration').show()"
   ]
  },
  {
   "cell_type": "code",
   "execution_count": 24,
   "metadata": {},
   "outputs": [
    {
     "name": "stdout",
     "output_type": "stream",
     "text": [
      "+--------+---------+------+\n",
      "|year(ts)|month(ts)| count|\n",
      "+--------+---------+------+\n",
      "|    2018|       10|144916|\n",
      "|    2018|       11|133234|\n",
      "|    2018|       12|     4|\n",
      "+--------+---------+------+\n",
      "\n"
     ]
    }
   ],
   "source": [
    "# time period for all events in dataset\n",
    "df_clean.groupBy(year('ts'), month('ts')).count().sort(month('ts')).show()"
   ]
  },
  {
   "cell_type": "code",
   "execution_count": 25,
   "metadata": {},
   "outputs": [],
   "source": [
    "# split location column into two, one column with location name and one column with the state\n",
    "df_clean = df_clean.withColumn('location_name', split(col('location'), ',').getItem(0))\n",
    "df_clean = df_clean.withColumn('state', split(col('location'), ',').getItem(1))\n",
    "# keep only the first state\n",
    "df_clean = df_clean.withColumn('state', split(col('state'), '-').getItem(0))"
   ]
  },
  {
   "cell_type": "code",
   "execution_count": 26,
   "metadata": {},
   "outputs": [
    {
     "name": "stdout",
     "output_type": "stream",
     "text": [
      "+-----------------------+\n",
      "|location_name          |\n",
      "+-----------------------+\n",
      "|Bakersfield            |\n",
      "|Boston-Cambridge-Newton|\n",
      "|Bakersfield            |\n",
      "|Boston-Cambridge-Newton|\n",
      "|Bakersfield            |\n",
      "|Boston-Cambridge-Newton|\n",
      "|Boston-Cambridge-Newton|\n",
      "|Bakersfield            |\n",
      "|Bakersfield            |\n",
      "|Bakersfield            |\n",
      "|Boston-Cambridge-Newton|\n",
      "|Boston-Cambridge-Newton|\n",
      "|Bakersfield            |\n",
      "|Boston-Cambridge-Newton|\n",
      "|Boston-Cambridge-Newton|\n",
      "|Bakersfield            |\n",
      "|Boston-Cambridge-Newton|\n",
      "|Tallahassee            |\n",
      "|Bakersfield            |\n",
      "|Boston-Cambridge-Newton|\n",
      "+-----------------------+\n",
      "only showing top 20 rows\n",
      "\n"
     ]
    }
   ],
   "source": [
    "df_clean.select('location_name').show(truncate=False)"
   ]
  },
  {
   "cell_type": "code",
   "execution_count": 27,
   "metadata": {},
   "outputs": [
    {
     "name": "stdout",
     "output_type": "stream",
     "text": [
      "+-----+\n",
      "|state|\n",
      "+-----+\n",
      "|   CA|\n",
      "|   MA|\n",
      "|   CA|\n",
      "|   MA|\n",
      "|   CA|\n",
      "|   MA|\n",
      "|   MA|\n",
      "|   CA|\n",
      "|   CA|\n",
      "|   CA|\n",
      "|   MA|\n",
      "|   MA|\n",
      "|   CA|\n",
      "|   MA|\n",
      "|   MA|\n",
      "|   CA|\n",
      "|   MA|\n",
      "|   FL|\n",
      "|   CA|\n",
      "|   MA|\n",
      "+-----+\n",
      "only showing top 20 rows\n",
      "\n"
     ]
    }
   ],
   "source": [
    "df_clean.select('state').show()"
   ]
  },
  {
   "cell_type": "code",
   "execution_count": null,
   "metadata": {},
   "outputs": [],
   "source": []
  },
  {
   "cell_type": "code",
   "execution_count": null,
   "metadata": {},
   "outputs": [],
   "source": []
  },
  {
   "cell_type": "code",
   "execution_count": null,
   "metadata": {},
   "outputs": [],
   "source": []
  },
  {
   "cell_type": "markdown",
   "metadata": {},
   "source": [
    "# Exploratory Data Analysis\n",
    "When you're working with the full dataset, perform EDA by loading a small subset of the data and doing basic manipulations within Spark. In this workspace, you are already provided a small subset of data you can explore.\n",
    "\n",
    "### Define Churn\n",
    "\n",
    "Once you've done some preliminary analysis, create a column `Churn` to use as the label for your model. I suggest using the `Cancellation Confirmation` events to define your churn, which happen for both paid and free users. As a bonus task, you can also look into the `Downgrade` events.\n",
    "\n",
    "### Explore Data\n",
    "Once you've defined churn, perform some exploratory data analysis to observe the behavior for users who stayed vs users who churned. You can start by exploring aggregates on these two groups of users, observing how much of a specific action they experienced per a certain time unit or number of songs played."
   ]
  },
  {
   "cell_type": "code",
   "execution_count": 28,
   "metadata": {},
   "outputs": [
    {
     "name": "stdout",
     "output_type": "stream",
     "text": [
      "+-----+------+\n",
      "|churn| count|\n",
      "+-----+------+\n",
      "|    1|    52|\n",
      "|    0|278102|\n",
      "+-----+------+\n",
      "\n"
     ]
    }
   ],
   "source": [
    "# create new column 'churn'\n",
    "# churn = 1 (yes) if column page = 'Cancellation Confirmation', else 0 (No)\n",
    "df_clean = df_clean.withColumn('churn', when(col('page') == 'Cancellation Confirmation', 1).otherwise(0))\n",
    "\n",
    "# Show counts per value for 'churn'\n",
    "df_clean.groupBy('churn').count().show()"
   ]
  },
  {
   "cell_type": "code",
   "execution_count": 29,
   "metadata": {},
   "outputs": [
    {
     "data": {
      "text/plain": [
       "['125',\n",
       " '51',\n",
       " '54',\n",
       " '100014',\n",
       " '101',\n",
       " '29',\n",
       " '100021',\n",
       " '87',\n",
       " '73',\n",
       " '3',\n",
       " '28',\n",
       " '100022',\n",
       " '100025',\n",
       " '300007',\n",
       " '100006',\n",
       " '18',\n",
       " '70',\n",
       " '100005',\n",
       " '17',\n",
       " '100007',\n",
       " '300001',\n",
       " '100009',\n",
       " '100015',\n",
       " '200024',\n",
       " '100003',\n",
       " '103',\n",
       " '100024',\n",
       " '53',\n",
       " '122',\n",
       " '200017',\n",
       " '58',\n",
       " '100011',\n",
       " '100019',\n",
       " '100012',\n",
       " '200018',\n",
       " '200016',\n",
       " '200020',\n",
       " '106',\n",
       " '143',\n",
       " '32',\n",
       " '200001',\n",
       " '105',\n",
       " '200011',\n",
       " '100023',\n",
       " '100013',\n",
       " '100017',\n",
       " '121',\n",
       " '12',\n",
       " '200015',\n",
       " '129',\n",
       " '200021',\n",
       " '100001']"
      ]
     },
     "execution_count": 29,
     "metadata": {},
     "output_type": "execute_result"
    }
   ],
   "source": [
    "## churn, where a user is considered to have churned only when they have deleted their account and completely stopped using the service. This is easily accessed in the data as 'page == Cancellation Confirmation' and applies to both free and paid plans the same way.\n",
    "\n",
    "# get userId's where churn = 1\n",
    "churned_users = df_clean.select('userId').where(col('churn') == 1).groupby('userId').count()\n",
    "\n",
    "# only keep values from 'userId' column and store as list\n",
    "\n",
    "churned_users = [row['userId'] for row in churned_users.collect()]\n",
    "\n",
    "# print userId's for churned users\n",
    "churned_users"
   ]
  },
  {
   "cell_type": "code",
   "execution_count": 30,
   "metadata": {},
   "outputs": [
    {
     "name": "stdout",
     "output_type": "stream",
     "text": [
      "+-----+------+\n",
      "|churn| count|\n",
      "+-----+------+\n",
      "|    1| 44864|\n",
      "|    0|233290|\n",
      "+-----+------+\n",
      "\n"
     ]
    }
   ],
   "source": [
    "# set column 'churn' as 1 for all rows for a churned user\n",
    "df_clean = df_clean.withColumn('churn', when((df_clean.userId).isin(churned_users), 1).otherwise(0))\n",
    "\n",
    "# Show counts per value for 'churn'\n",
    "df_clean.groupBy('churn').count().show()"
   ]
  },
  {
   "cell_type": "code",
   "execution_count": 31,
   "metadata": {},
   "outputs": [
    {
     "data": {
      "text/html": [
       "<div>\n",
       "<style scoped>\n",
       "    .dataframe tbody tr th:only-of-type {\n",
       "        vertical-align: middle;\n",
       "    }\n",
       "\n",
       "    .dataframe tbody tr th {\n",
       "        vertical-align: top;\n",
       "    }\n",
       "\n",
       "    .dataframe thead th {\n",
       "        text-align: right;\n",
       "    }\n",
       "</style>\n",
       "<table border=\"1\" class=\"dataframe\">\n",
       "  <thead>\n",
       "    <tr style=\"text-align: right;\">\n",
       "      <th></th>\n",
       "      <th>itemInSession</th>\n",
       "      <th>level</th>\n",
       "      <th>method</th>\n",
       "      <th>page</th>\n",
       "      <th>sessionId</th>\n",
       "      <th>ts</th>\n",
       "      <th>userId</th>\n",
       "      <th>churn</th>\n",
       "    </tr>\n",
       "  </thead>\n",
       "  <tbody>\n",
       "    <tr>\n",
       "      <th>0</th>\n",
       "      <td>0</td>\n",
       "      <td>paid</td>\n",
       "      <td>PUT</td>\n",
       "      <td>NextSong</td>\n",
       "      <td>37</td>\n",
       "      <td>2018-10-10 13:12:16</td>\n",
       "      <td>100014</td>\n",
       "      <td>1</td>\n",
       "    </tr>\n",
       "    <tr>\n",
       "      <th>1</th>\n",
       "      <td>1</td>\n",
       "      <td>paid</td>\n",
       "      <td>PUT</td>\n",
       "      <td>NextSong</td>\n",
       "      <td>37</td>\n",
       "      <td>2018-10-10 13:15:51</td>\n",
       "      <td>100014</td>\n",
       "      <td>1</td>\n",
       "    </tr>\n",
       "    <tr>\n",
       "      <th>2</th>\n",
       "      <td>2</td>\n",
       "      <td>paid</td>\n",
       "      <td>PUT</td>\n",
       "      <td>NextSong</td>\n",
       "      <td>37</td>\n",
       "      <td>2018-10-10 13:17:56</td>\n",
       "      <td>100014</td>\n",
       "      <td>1</td>\n",
       "    </tr>\n",
       "    <tr>\n",
       "      <th>3</th>\n",
       "      <td>3</td>\n",
       "      <td>paid</td>\n",
       "      <td>PUT</td>\n",
       "      <td>NextSong</td>\n",
       "      <td>37</td>\n",
       "      <td>2018-10-10 13:21:38</td>\n",
       "      <td>100014</td>\n",
       "      <td>1</td>\n",
       "    </tr>\n",
       "    <tr>\n",
       "      <th>4</th>\n",
       "      <td>4</td>\n",
       "      <td>paid</td>\n",
       "      <td>GET</td>\n",
       "      <td>Help</td>\n",
       "      <td>37</td>\n",
       "      <td>2018-10-10 13:21:45</td>\n",
       "      <td>100014</td>\n",
       "      <td>1</td>\n",
       "    </tr>\n",
       "    <tr>\n",
       "      <th>5</th>\n",
       "      <td>5</td>\n",
       "      <td>paid</td>\n",
       "      <td>PUT</td>\n",
       "      <td>NextSong</td>\n",
       "      <td>37</td>\n",
       "      <td>2018-10-10 13:25:56</td>\n",
       "      <td>100014</td>\n",
       "      <td>1</td>\n",
       "    </tr>\n",
       "    <tr>\n",
       "      <th>6</th>\n",
       "      <td>6</td>\n",
       "      <td>paid</td>\n",
       "      <td>PUT</td>\n",
       "      <td>NextSong</td>\n",
       "      <td>37</td>\n",
       "      <td>2018-10-10 13:36:51</td>\n",
       "      <td>100014</td>\n",
       "      <td>1</td>\n",
       "    </tr>\n",
       "    <tr>\n",
       "      <th>7</th>\n",
       "      <td>7</td>\n",
       "      <td>paid</td>\n",
       "      <td>PUT</td>\n",
       "      <td>NextSong</td>\n",
       "      <td>37</td>\n",
       "      <td>2018-10-10 13:41:54</td>\n",
       "      <td>100014</td>\n",
       "      <td>1</td>\n",
       "    </tr>\n",
       "    <tr>\n",
       "      <th>8</th>\n",
       "      <td>8</td>\n",
       "      <td>paid</td>\n",
       "      <td>PUT</td>\n",
       "      <td>NextSong</td>\n",
       "      <td>37</td>\n",
       "      <td>2018-10-10 13:45:53</td>\n",
       "      <td>100014</td>\n",
       "      <td>1</td>\n",
       "    </tr>\n",
       "    <tr>\n",
       "      <th>9</th>\n",
       "      <td>9</td>\n",
       "      <td>paid</td>\n",
       "      <td>PUT</td>\n",
       "      <td>NextSong</td>\n",
       "      <td>37</td>\n",
       "      <td>2018-10-10 13:51:50</td>\n",
       "      <td>100014</td>\n",
       "      <td>1</td>\n",
       "    </tr>\n",
       "    <tr>\n",
       "      <th>10</th>\n",
       "      <td>10</td>\n",
       "      <td>paid</td>\n",
       "      <td>PUT</td>\n",
       "      <td>NextSong</td>\n",
       "      <td>37</td>\n",
       "      <td>2018-10-10 13:56:28</td>\n",
       "      <td>100014</td>\n",
       "      <td>1</td>\n",
       "    </tr>\n",
       "    <tr>\n",
       "      <th>11</th>\n",
       "      <td>11</td>\n",
       "      <td>paid</td>\n",
       "      <td>PUT</td>\n",
       "      <td>NextSong</td>\n",
       "      <td>37</td>\n",
       "      <td>2018-10-10 14:00:38</td>\n",
       "      <td>100014</td>\n",
       "      <td>1</td>\n",
       "    </tr>\n",
       "    <tr>\n",
       "      <th>12</th>\n",
       "      <td>12</td>\n",
       "      <td>paid</td>\n",
       "      <td>PUT</td>\n",
       "      <td>NextSong</td>\n",
       "      <td>37</td>\n",
       "      <td>2018-10-10 14:09:05</td>\n",
       "      <td>100014</td>\n",
       "      <td>1</td>\n",
       "    </tr>\n",
       "    <tr>\n",
       "      <th>13</th>\n",
       "      <td>13</td>\n",
       "      <td>paid</td>\n",
       "      <td>PUT</td>\n",
       "      <td>NextSong</td>\n",
       "      <td>37</td>\n",
       "      <td>2018-10-10 14:15:25</td>\n",
       "      <td>100014</td>\n",
       "      <td>1</td>\n",
       "    </tr>\n",
       "    <tr>\n",
       "      <th>14</th>\n",
       "      <td>14</td>\n",
       "      <td>paid</td>\n",
       "      <td>PUT</td>\n",
       "      <td>NextSong</td>\n",
       "      <td>37</td>\n",
       "      <td>2018-10-10 14:18:49</td>\n",
       "      <td>100014</td>\n",
       "      <td>1</td>\n",
       "    </tr>\n",
       "    <tr>\n",
       "      <th>15</th>\n",
       "      <td>15</td>\n",
       "      <td>paid</td>\n",
       "      <td>PUT</td>\n",
       "      <td>NextSong</td>\n",
       "      <td>37</td>\n",
       "      <td>2018-10-10 14:22:14</td>\n",
       "      <td>100014</td>\n",
       "      <td>1</td>\n",
       "    </tr>\n",
       "    <tr>\n",
       "      <th>16</th>\n",
       "      <td>16</td>\n",
       "      <td>paid</td>\n",
       "      <td>PUT</td>\n",
       "      <td>NextSong</td>\n",
       "      <td>37</td>\n",
       "      <td>2018-10-10 14:25:41</td>\n",
       "      <td>100014</td>\n",
       "      <td>1</td>\n",
       "    </tr>\n",
       "    <tr>\n",
       "      <th>17</th>\n",
       "      <td>17</td>\n",
       "      <td>paid</td>\n",
       "      <td>PUT</td>\n",
       "      <td>Thumbs Up</td>\n",
       "      <td>37</td>\n",
       "      <td>2018-10-10 14:25:42</td>\n",
       "      <td>100014</td>\n",
       "      <td>1</td>\n",
       "    </tr>\n",
       "    <tr>\n",
       "      <th>18</th>\n",
       "      <td>18</td>\n",
       "      <td>paid</td>\n",
       "      <td>PUT</td>\n",
       "      <td>NextSong</td>\n",
       "      <td>37</td>\n",
       "      <td>2018-10-10 14:29:38</td>\n",
       "      <td>100014</td>\n",
       "      <td>1</td>\n",
       "    </tr>\n",
       "    <tr>\n",
       "      <th>19</th>\n",
       "      <td>19</td>\n",
       "      <td>paid</td>\n",
       "      <td>PUT</td>\n",
       "      <td>NextSong</td>\n",
       "      <td>37</td>\n",
       "      <td>2018-10-10 14:34:31</td>\n",
       "      <td>100014</td>\n",
       "      <td>1</td>\n",
       "    </tr>\n",
       "    <tr>\n",
       "      <th>20</th>\n",
       "      <td>20</td>\n",
       "      <td>paid</td>\n",
       "      <td>PUT</td>\n",
       "      <td>NextSong</td>\n",
       "      <td>37</td>\n",
       "      <td>2018-10-10 14:38:08</td>\n",
       "      <td>100014</td>\n",
       "      <td>1</td>\n",
       "    </tr>\n",
       "    <tr>\n",
       "      <th>21</th>\n",
       "      <td>21</td>\n",
       "      <td>paid</td>\n",
       "      <td>PUT</td>\n",
       "      <td>NextSong</td>\n",
       "      <td>37</td>\n",
       "      <td>2018-10-10 14:44:58</td>\n",
       "      <td>100014</td>\n",
       "      <td>1</td>\n",
       "    </tr>\n",
       "    <tr>\n",
       "      <th>22</th>\n",
       "      <td>22</td>\n",
       "      <td>paid</td>\n",
       "      <td>PUT</td>\n",
       "      <td>NextSong</td>\n",
       "      <td>37</td>\n",
       "      <td>2018-10-10 14:49:49</td>\n",
       "      <td>100014</td>\n",
       "      <td>1</td>\n",
       "    </tr>\n",
       "    <tr>\n",
       "      <th>23</th>\n",
       "      <td>23</td>\n",
       "      <td>paid</td>\n",
       "      <td>PUT</td>\n",
       "      <td>NextSong</td>\n",
       "      <td>37</td>\n",
       "      <td>2018-10-10 14:52:13</td>\n",
       "      <td>100014</td>\n",
       "      <td>1</td>\n",
       "    </tr>\n",
       "    <tr>\n",
       "      <th>24</th>\n",
       "      <td>24</td>\n",
       "      <td>paid</td>\n",
       "      <td>PUT</td>\n",
       "      <td>NextSong</td>\n",
       "      <td>37</td>\n",
       "      <td>2018-10-10 14:57:58</td>\n",
       "      <td>100014</td>\n",
       "      <td>1</td>\n",
       "    </tr>\n",
       "    <tr>\n",
       "      <th>25</th>\n",
       "      <td>25</td>\n",
       "      <td>paid</td>\n",
       "      <td>PUT</td>\n",
       "      <td>NextSong</td>\n",
       "      <td>37</td>\n",
       "      <td>2018-10-10 15:01:54</td>\n",
       "      <td>100014</td>\n",
       "      <td>1</td>\n",
       "    </tr>\n",
       "    <tr>\n",
       "      <th>26</th>\n",
       "      <td>26</td>\n",
       "      <td>paid</td>\n",
       "      <td>PUT</td>\n",
       "      <td>NextSong</td>\n",
       "      <td>37</td>\n",
       "      <td>2018-10-10 15:06:12</td>\n",
       "      <td>100014</td>\n",
       "      <td>1</td>\n",
       "    </tr>\n",
       "    <tr>\n",
       "      <th>27</th>\n",
       "      <td>27</td>\n",
       "      <td>paid</td>\n",
       "      <td>PUT</td>\n",
       "      <td>NextSong</td>\n",
       "      <td>37</td>\n",
       "      <td>2018-10-10 15:09:41</td>\n",
       "      <td>100014</td>\n",
       "      <td>1</td>\n",
       "    </tr>\n",
       "    <tr>\n",
       "      <th>28</th>\n",
       "      <td>28</td>\n",
       "      <td>paid</td>\n",
       "      <td>PUT</td>\n",
       "      <td>NextSong</td>\n",
       "      <td>37</td>\n",
       "      <td>2018-10-10 15:14:25</td>\n",
       "      <td>100014</td>\n",
       "      <td>1</td>\n",
       "    </tr>\n",
       "    <tr>\n",
       "      <th>29</th>\n",
       "      <td>29</td>\n",
       "      <td>paid</td>\n",
       "      <td>PUT</td>\n",
       "      <td>NextSong</td>\n",
       "      <td>37</td>\n",
       "      <td>2018-10-10 15:18:01</td>\n",
       "      <td>100014</td>\n",
       "      <td>1</td>\n",
       "    </tr>\n",
       "    <tr>\n",
       "      <th>...</th>\n",
       "      <td>...</td>\n",
       "      <td>...</td>\n",
       "      <td>...</td>\n",
       "      <td>...</td>\n",
       "      <td>...</td>\n",
       "      <td>...</td>\n",
       "      <td>...</td>\n",
       "      <td>...</td>\n",
       "    </tr>\n",
       "    <tr>\n",
       "      <th>280</th>\n",
       "      <td>44</td>\n",
       "      <td>paid</td>\n",
       "      <td>PUT</td>\n",
       "      <td>NextSong</td>\n",
       "      <td>185</td>\n",
       "      <td>2018-11-20 17:33:34</td>\n",
       "      <td>100014</td>\n",
       "      <td>1</td>\n",
       "    </tr>\n",
       "    <tr>\n",
       "      <th>281</th>\n",
       "      <td>45</td>\n",
       "      <td>paid</td>\n",
       "      <td>PUT</td>\n",
       "      <td>NextSong</td>\n",
       "      <td>185</td>\n",
       "      <td>2018-11-20 17:37:41</td>\n",
       "      <td>100014</td>\n",
       "      <td>1</td>\n",
       "    </tr>\n",
       "    <tr>\n",
       "      <th>282</th>\n",
       "      <td>46</td>\n",
       "      <td>paid</td>\n",
       "      <td>PUT</td>\n",
       "      <td>NextSong</td>\n",
       "      <td>185</td>\n",
       "      <td>2018-11-20 17:41:34</td>\n",
       "      <td>100014</td>\n",
       "      <td>1</td>\n",
       "    </tr>\n",
       "    <tr>\n",
       "      <th>283</th>\n",
       "      <td>47</td>\n",
       "      <td>paid</td>\n",
       "      <td>PUT</td>\n",
       "      <td>NextSong</td>\n",
       "      <td>185</td>\n",
       "      <td>2018-11-20 17:46:04</td>\n",
       "      <td>100014</td>\n",
       "      <td>1</td>\n",
       "    </tr>\n",
       "    <tr>\n",
       "      <th>284</th>\n",
       "      <td>48</td>\n",
       "      <td>paid</td>\n",
       "      <td>PUT</td>\n",
       "      <td>NextSong</td>\n",
       "      <td>185</td>\n",
       "      <td>2018-11-20 17:49:16</td>\n",
       "      <td>100014</td>\n",
       "      <td>1</td>\n",
       "    </tr>\n",
       "    <tr>\n",
       "      <th>285</th>\n",
       "      <td>49</td>\n",
       "      <td>paid</td>\n",
       "      <td>PUT</td>\n",
       "      <td>NextSong</td>\n",
       "      <td>185</td>\n",
       "      <td>2018-11-20 17:53:05</td>\n",
       "      <td>100014</td>\n",
       "      <td>1</td>\n",
       "    </tr>\n",
       "    <tr>\n",
       "      <th>286</th>\n",
       "      <td>50</td>\n",
       "      <td>paid</td>\n",
       "      <td>PUT</td>\n",
       "      <td>NextSong</td>\n",
       "      <td>185</td>\n",
       "      <td>2018-11-20 17:56:55</td>\n",
       "      <td>100014</td>\n",
       "      <td>1</td>\n",
       "    </tr>\n",
       "    <tr>\n",
       "      <th>287</th>\n",
       "      <td>51</td>\n",
       "      <td>paid</td>\n",
       "      <td>PUT</td>\n",
       "      <td>NextSong</td>\n",
       "      <td>185</td>\n",
       "      <td>2018-11-20 18:01:32</td>\n",
       "      <td>100014</td>\n",
       "      <td>1</td>\n",
       "    </tr>\n",
       "    <tr>\n",
       "      <th>288</th>\n",
       "      <td>52</td>\n",
       "      <td>paid</td>\n",
       "      <td>PUT</td>\n",
       "      <td>NextSong</td>\n",
       "      <td>185</td>\n",
       "      <td>2018-11-20 18:05:49</td>\n",
       "      <td>100014</td>\n",
       "      <td>1</td>\n",
       "    </tr>\n",
       "    <tr>\n",
       "      <th>289</th>\n",
       "      <td>53</td>\n",
       "      <td>paid</td>\n",
       "      <td>PUT</td>\n",
       "      <td>NextSong</td>\n",
       "      <td>185</td>\n",
       "      <td>2018-11-20 18:09:52</td>\n",
       "      <td>100014</td>\n",
       "      <td>1</td>\n",
       "    </tr>\n",
       "    <tr>\n",
       "      <th>290</th>\n",
       "      <td>54</td>\n",
       "      <td>paid</td>\n",
       "      <td>PUT</td>\n",
       "      <td>NextSong</td>\n",
       "      <td>185</td>\n",
       "      <td>2018-11-20 18:13:38</td>\n",
       "      <td>100014</td>\n",
       "      <td>1</td>\n",
       "    </tr>\n",
       "    <tr>\n",
       "      <th>291</th>\n",
       "      <td>55</td>\n",
       "      <td>paid</td>\n",
       "      <td>PUT</td>\n",
       "      <td>NextSong</td>\n",
       "      <td>185</td>\n",
       "      <td>2018-11-20 18:17:47</td>\n",
       "      <td>100014</td>\n",
       "      <td>1</td>\n",
       "    </tr>\n",
       "    <tr>\n",
       "      <th>292</th>\n",
       "      <td>56</td>\n",
       "      <td>paid</td>\n",
       "      <td>PUT</td>\n",
       "      <td>Thumbs Up</td>\n",
       "      <td>185</td>\n",
       "      <td>2018-11-20 18:17:48</td>\n",
       "      <td>100014</td>\n",
       "      <td>1</td>\n",
       "    </tr>\n",
       "    <tr>\n",
       "      <th>293</th>\n",
       "      <td>57</td>\n",
       "      <td>paid</td>\n",
       "      <td>PUT</td>\n",
       "      <td>NextSong</td>\n",
       "      <td>185</td>\n",
       "      <td>2018-11-20 18:21:13</td>\n",
       "      <td>100014</td>\n",
       "      <td>1</td>\n",
       "    </tr>\n",
       "    <tr>\n",
       "      <th>294</th>\n",
       "      <td>58</td>\n",
       "      <td>paid</td>\n",
       "      <td>PUT</td>\n",
       "      <td>Thumbs Down</td>\n",
       "      <td>185</td>\n",
       "      <td>2018-11-20 18:21:14</td>\n",
       "      <td>100014</td>\n",
       "      <td>1</td>\n",
       "    </tr>\n",
       "    <tr>\n",
       "      <th>295</th>\n",
       "      <td>59</td>\n",
       "      <td>paid</td>\n",
       "      <td>PUT</td>\n",
       "      <td>NextSong</td>\n",
       "      <td>185</td>\n",
       "      <td>2018-11-20 18:29:45</td>\n",
       "      <td>100014</td>\n",
       "      <td>1</td>\n",
       "    </tr>\n",
       "    <tr>\n",
       "      <th>296</th>\n",
       "      <td>60</td>\n",
       "      <td>paid</td>\n",
       "      <td>PUT</td>\n",
       "      <td>NextSong</td>\n",
       "      <td>185</td>\n",
       "      <td>2018-11-20 18:31:02</td>\n",
       "      <td>100014</td>\n",
       "      <td>1</td>\n",
       "    </tr>\n",
       "    <tr>\n",
       "      <th>297</th>\n",
       "      <td>61</td>\n",
       "      <td>paid</td>\n",
       "      <td>PUT</td>\n",
       "      <td>NextSong</td>\n",
       "      <td>185</td>\n",
       "      <td>2018-11-20 18:34:23</td>\n",
       "      <td>100014</td>\n",
       "      <td>1</td>\n",
       "    </tr>\n",
       "    <tr>\n",
       "      <th>298</th>\n",
       "      <td>62</td>\n",
       "      <td>paid</td>\n",
       "      <td>PUT</td>\n",
       "      <td>NextSong</td>\n",
       "      <td>185</td>\n",
       "      <td>2018-11-20 18:40:01</td>\n",
       "      <td>100014</td>\n",
       "      <td>1</td>\n",
       "    </tr>\n",
       "    <tr>\n",
       "      <th>299</th>\n",
       "      <td>63</td>\n",
       "      <td>paid</td>\n",
       "      <td>PUT</td>\n",
       "      <td>NextSong</td>\n",
       "      <td>185</td>\n",
       "      <td>2018-11-20 18:42:57</td>\n",
       "      <td>100014</td>\n",
       "      <td>1</td>\n",
       "    </tr>\n",
       "    <tr>\n",
       "      <th>300</th>\n",
       "      <td>64</td>\n",
       "      <td>paid</td>\n",
       "      <td>PUT</td>\n",
       "      <td>NextSong</td>\n",
       "      <td>185</td>\n",
       "      <td>2018-11-20 18:48:30</td>\n",
       "      <td>100014</td>\n",
       "      <td>1</td>\n",
       "    </tr>\n",
       "    <tr>\n",
       "      <th>301</th>\n",
       "      <td>65</td>\n",
       "      <td>paid</td>\n",
       "      <td>PUT</td>\n",
       "      <td>NextSong</td>\n",
       "      <td>185</td>\n",
       "      <td>2018-11-20 18:52:41</td>\n",
       "      <td>100014</td>\n",
       "      <td>1</td>\n",
       "    </tr>\n",
       "    <tr>\n",
       "      <th>302</th>\n",
       "      <td>66</td>\n",
       "      <td>paid</td>\n",
       "      <td>PUT</td>\n",
       "      <td>Thumbs Up</td>\n",
       "      <td>185</td>\n",
       "      <td>2018-11-20 18:52:42</td>\n",
       "      <td>100014</td>\n",
       "      <td>1</td>\n",
       "    </tr>\n",
       "    <tr>\n",
       "      <th>303</th>\n",
       "      <td>67</td>\n",
       "      <td>paid</td>\n",
       "      <td>PUT</td>\n",
       "      <td>Add to Playlist</td>\n",
       "      <td>185</td>\n",
       "      <td>2018-11-20 18:53:48</td>\n",
       "      <td>100014</td>\n",
       "      <td>1</td>\n",
       "    </tr>\n",
       "    <tr>\n",
       "      <th>304</th>\n",
       "      <td>68</td>\n",
       "      <td>paid</td>\n",
       "      <td>PUT</td>\n",
       "      <td>NextSong</td>\n",
       "      <td>185</td>\n",
       "      <td>2018-11-20 18:55:15</td>\n",
       "      <td>100014</td>\n",
       "      <td>1</td>\n",
       "    </tr>\n",
       "    <tr>\n",
       "      <th>305</th>\n",
       "      <td>69</td>\n",
       "      <td>paid</td>\n",
       "      <td>PUT</td>\n",
       "      <td>NextSong</td>\n",
       "      <td>185</td>\n",
       "      <td>2018-11-20 18:59:12</td>\n",
       "      <td>100014</td>\n",
       "      <td>1</td>\n",
       "    </tr>\n",
       "    <tr>\n",
       "      <th>306</th>\n",
       "      <td>70</td>\n",
       "      <td>paid</td>\n",
       "      <td>PUT</td>\n",
       "      <td>NextSong</td>\n",
       "      <td>185</td>\n",
       "      <td>2018-11-20 19:03:48</td>\n",
       "      <td>100014</td>\n",
       "      <td>1</td>\n",
       "    </tr>\n",
       "    <tr>\n",
       "      <th>307</th>\n",
       "      <td>71</td>\n",
       "      <td>paid</td>\n",
       "      <td>GET</td>\n",
       "      <td>Downgrade</td>\n",
       "      <td>185</td>\n",
       "      <td>2018-11-20 19:04:01</td>\n",
       "      <td>100014</td>\n",
       "      <td>1</td>\n",
       "    </tr>\n",
       "    <tr>\n",
       "      <th>308</th>\n",
       "      <td>72</td>\n",
       "      <td>paid</td>\n",
       "      <td>PUT</td>\n",
       "      <td>Cancel</td>\n",
       "      <td>185</td>\n",
       "      <td>2018-11-20 19:04:02</td>\n",
       "      <td>100014</td>\n",
       "      <td>1</td>\n",
       "    </tr>\n",
       "    <tr>\n",
       "      <th>309</th>\n",
       "      <td>73</td>\n",
       "      <td>paid</td>\n",
       "      <td>GET</td>\n",
       "      <td>Cancellation Confirmation</td>\n",
       "      <td>185</td>\n",
       "      <td>2018-11-20 19:04:09</td>\n",
       "      <td>100014</td>\n",
       "      <td>1</td>\n",
       "    </tr>\n",
       "  </tbody>\n",
       "</table>\n",
       "<p>310 rows × 8 columns</p>\n",
       "</div>"
      ],
      "text/plain": [
       "     itemInSession level method                       page  sessionId  \\\n",
       "0                0  paid    PUT                   NextSong         37   \n",
       "1                1  paid    PUT                   NextSong         37   \n",
       "2                2  paid    PUT                   NextSong         37   \n",
       "3                3  paid    PUT                   NextSong         37   \n",
       "4                4  paid    GET                       Help         37   \n",
       "5                5  paid    PUT                   NextSong         37   \n",
       "6                6  paid    PUT                   NextSong         37   \n",
       "7                7  paid    PUT                   NextSong         37   \n",
       "8                8  paid    PUT                   NextSong         37   \n",
       "9                9  paid    PUT                   NextSong         37   \n",
       "10              10  paid    PUT                   NextSong         37   \n",
       "11              11  paid    PUT                   NextSong         37   \n",
       "12              12  paid    PUT                   NextSong         37   \n",
       "13              13  paid    PUT                   NextSong         37   \n",
       "14              14  paid    PUT                   NextSong         37   \n",
       "15              15  paid    PUT                   NextSong         37   \n",
       "16              16  paid    PUT                   NextSong         37   \n",
       "17              17  paid    PUT                  Thumbs Up         37   \n",
       "18              18  paid    PUT                   NextSong         37   \n",
       "19              19  paid    PUT                   NextSong         37   \n",
       "20              20  paid    PUT                   NextSong         37   \n",
       "21              21  paid    PUT                   NextSong         37   \n",
       "22              22  paid    PUT                   NextSong         37   \n",
       "23              23  paid    PUT                   NextSong         37   \n",
       "24              24  paid    PUT                   NextSong         37   \n",
       "25              25  paid    PUT                   NextSong         37   \n",
       "26              26  paid    PUT                   NextSong         37   \n",
       "27              27  paid    PUT                   NextSong         37   \n",
       "28              28  paid    PUT                   NextSong         37   \n",
       "29              29  paid    PUT                   NextSong         37   \n",
       "..             ...   ...    ...                        ...        ...   \n",
       "280             44  paid    PUT                   NextSong        185   \n",
       "281             45  paid    PUT                   NextSong        185   \n",
       "282             46  paid    PUT                   NextSong        185   \n",
       "283             47  paid    PUT                   NextSong        185   \n",
       "284             48  paid    PUT                   NextSong        185   \n",
       "285             49  paid    PUT                   NextSong        185   \n",
       "286             50  paid    PUT                   NextSong        185   \n",
       "287             51  paid    PUT                   NextSong        185   \n",
       "288             52  paid    PUT                   NextSong        185   \n",
       "289             53  paid    PUT                   NextSong        185   \n",
       "290             54  paid    PUT                   NextSong        185   \n",
       "291             55  paid    PUT                   NextSong        185   \n",
       "292             56  paid    PUT                  Thumbs Up        185   \n",
       "293             57  paid    PUT                   NextSong        185   \n",
       "294             58  paid    PUT                Thumbs Down        185   \n",
       "295             59  paid    PUT                   NextSong        185   \n",
       "296             60  paid    PUT                   NextSong        185   \n",
       "297             61  paid    PUT                   NextSong        185   \n",
       "298             62  paid    PUT                   NextSong        185   \n",
       "299             63  paid    PUT                   NextSong        185   \n",
       "300             64  paid    PUT                   NextSong        185   \n",
       "301             65  paid    PUT                   NextSong        185   \n",
       "302             66  paid    PUT                  Thumbs Up        185   \n",
       "303             67  paid    PUT            Add to Playlist        185   \n",
       "304             68  paid    PUT                   NextSong        185   \n",
       "305             69  paid    PUT                   NextSong        185   \n",
       "306             70  paid    PUT                   NextSong        185   \n",
       "307             71  paid    GET                  Downgrade        185   \n",
       "308             72  paid    PUT                     Cancel        185   \n",
       "309             73  paid    GET  Cancellation Confirmation        185   \n",
       "\n",
       "                      ts  userId  churn  \n",
       "0    2018-10-10 13:12:16  100014      1  \n",
       "1    2018-10-10 13:15:51  100014      1  \n",
       "2    2018-10-10 13:17:56  100014      1  \n",
       "3    2018-10-10 13:21:38  100014      1  \n",
       "4    2018-10-10 13:21:45  100014      1  \n",
       "5    2018-10-10 13:25:56  100014      1  \n",
       "6    2018-10-10 13:36:51  100014      1  \n",
       "7    2018-10-10 13:41:54  100014      1  \n",
       "8    2018-10-10 13:45:53  100014      1  \n",
       "9    2018-10-10 13:51:50  100014      1  \n",
       "10   2018-10-10 13:56:28  100014      1  \n",
       "11   2018-10-10 14:00:38  100014      1  \n",
       "12   2018-10-10 14:09:05  100014      1  \n",
       "13   2018-10-10 14:15:25  100014      1  \n",
       "14   2018-10-10 14:18:49  100014      1  \n",
       "15   2018-10-10 14:22:14  100014      1  \n",
       "16   2018-10-10 14:25:41  100014      1  \n",
       "17   2018-10-10 14:25:42  100014      1  \n",
       "18   2018-10-10 14:29:38  100014      1  \n",
       "19   2018-10-10 14:34:31  100014      1  \n",
       "20   2018-10-10 14:38:08  100014      1  \n",
       "21   2018-10-10 14:44:58  100014      1  \n",
       "22   2018-10-10 14:49:49  100014      1  \n",
       "23   2018-10-10 14:52:13  100014      1  \n",
       "24   2018-10-10 14:57:58  100014      1  \n",
       "25   2018-10-10 15:01:54  100014      1  \n",
       "26   2018-10-10 15:06:12  100014      1  \n",
       "27   2018-10-10 15:09:41  100014      1  \n",
       "28   2018-10-10 15:14:25  100014      1  \n",
       "29   2018-10-10 15:18:01  100014      1  \n",
       "..                   ...     ...    ...  \n",
       "280  2018-11-20 17:33:34  100014      1  \n",
       "281  2018-11-20 17:37:41  100014      1  \n",
       "282  2018-11-20 17:41:34  100014      1  \n",
       "283  2018-11-20 17:46:04  100014      1  \n",
       "284  2018-11-20 17:49:16  100014      1  \n",
       "285  2018-11-20 17:53:05  100014      1  \n",
       "286  2018-11-20 17:56:55  100014      1  \n",
       "287  2018-11-20 18:01:32  100014      1  \n",
       "288  2018-11-20 18:05:49  100014      1  \n",
       "289  2018-11-20 18:09:52  100014      1  \n",
       "290  2018-11-20 18:13:38  100014      1  \n",
       "291  2018-11-20 18:17:47  100014      1  \n",
       "292  2018-11-20 18:17:48  100014      1  \n",
       "293  2018-11-20 18:21:13  100014      1  \n",
       "294  2018-11-20 18:21:14  100014      1  \n",
       "295  2018-11-20 18:29:45  100014      1  \n",
       "296  2018-11-20 18:31:02  100014      1  \n",
       "297  2018-11-20 18:34:23  100014      1  \n",
       "298  2018-11-20 18:40:01  100014      1  \n",
       "299  2018-11-20 18:42:57  100014      1  \n",
       "300  2018-11-20 18:48:30  100014      1  \n",
       "301  2018-11-20 18:52:41  100014      1  \n",
       "302  2018-11-20 18:52:42  100014      1  \n",
       "303  2018-11-20 18:53:48  100014      1  \n",
       "304  2018-11-20 18:55:15  100014      1  \n",
       "305  2018-11-20 18:59:12  100014      1  \n",
       "306  2018-11-20 19:03:48  100014      1  \n",
       "307  2018-11-20 19:04:01  100014      1  \n",
       "308  2018-11-20 19:04:02  100014      1  \n",
       "309  2018-11-20 19:04:09  100014      1  \n",
       "\n",
       "[310 rows x 8 columns]"
      ]
     },
     "execution_count": 31,
     "metadata": {},
     "output_type": "execute_result"
    }
   ],
   "source": [
    "# show all events related to a churned user\n",
    "df_clean.select(['itemInSession', 'level', 'method', 'page', 'sessionId', 'ts', 'userId', 'churn']).where(col('userId') == 100014).toPandas()"
   ]
  },
  {
   "cell_type": "code",
   "execution_count": 32,
   "metadata": {},
   "outputs": [
    {
     "name": "stdout",
     "output_type": "stream",
     "text": [
      "Number of events (rows) in dataset: 278154\n",
      "Number of unique users: 225\n",
      "Number of users that have churned: 52\n",
      "Number of active users (not churned): 173\n"
     ]
    }
   ],
   "source": [
    "# number of rows/events in dataframe\n",
    "print('Number of events (rows) in dataset: {}'.format(df_clean.count()))\n",
    "\n",
    "# number of unique userId's in dataframe\n",
    "print('Number of unique users: {}'.format(df_clean.select('userId').distinct().count()))\n",
    "\n",
    "# number of users that have churned\n",
    "print('Number of users that have churned: {}'.format(\n",
    "df_clean.where(col('churn') == 1).groupBy('userId').count().count()))\n",
    "\n",
    "# number of active users (not churned)\n",
    "print('Number of active users (not churned): {}'.format(\n",
    "df_clean.where(col('churn') == 0).groupBy('userId').count().count()))"
   ]
  },
  {
   "cell_type": "markdown",
   "metadata": {},
   "source": [
    "There are three-times more active users than churned users"
   ]
  },
  {
   "cell_type": "code",
   "execution_count": 33,
   "metadata": {},
   "outputs": [
    {
     "data": {
      "text/plain": [
       "Downgrade      19\n",
       "Settings       14\n",
       "Roll Advert    14\n",
       "Thumbs Down     4\n",
       "Add Friend      1\n",
       "Name: page, dtype: int64"
      ]
     },
     "execution_count": 33,
     "metadata": {},
     "output_type": "execute_result"
    }
   ],
   "source": [
    "# convert dataframe to pandas dataframe\n",
    "df_clean_pd = df_clean.toPandas()\n",
    "\n",
    "# create filter with rows that have the value 'Cancel' in column 'page'\n",
    "filter = df_clean_pd.loc[df_clean_pd['page'] == 'Cancel'].index\n",
    "\n",
    "# use filter to select rows before rows in filter to see what user did before the event 'Cancel'\n",
    "df_clean_pd.iloc[filter-1].page.value_counts(ascending=False)"
   ]
  },
  {
   "cell_type": "markdown",
   "metadata": {},
   "source": [
    "Amongst churned customers, Downgrade page was the most vistited followed by Settings page.  Interestingly, an equal number of customers saw that advert, which probably triggered them to go to the Settings page. "
   ]
  },
  {
   "cell_type": "code",
   "execution_count": 34,
   "metadata": {},
   "outputs": [
    {
     "data": {
      "text/plain": [
       "Timedelta('0 days 00:00:01')"
      ]
     },
     "execution_count": 34,
     "metadata": {},
     "output_type": "execute_result"
    }
   ],
   "source": [
    "# before cancelling\n",
    "ts_cancel = pd.to_datetime(df_clean_pd.loc[df_clean_pd['page'] == 'Cancel'].ts.values)\n",
    "ts_before_cancel = pd.to_datetime(df_clean_pd.iloc[filter-1].ts.values)\n",
    "\n",
    "# create pandas series with the time difference between cancelling and the last event before cancelling\n",
    "ts_diff = pd.Series(ts_cancel - ts_before_cancel)\n",
    "# average time differene between cancelling and the last event before cancelling\n",
    "ts_diff.mean()"
   ]
  },
  {
   "cell_type": "markdown",
   "metadata": {},
   "source": [
    "There is no time lag between cancelling their subscription and the previous step indicating that cancelling subscription was an instantenous decision "
   ]
  },
  {
   "cell_type": "code",
   "execution_count": 35,
   "metadata": {},
   "outputs": [
    {
     "name": "stdout",
     "output_type": "stream",
     "text": [
      "Average number of interactions (events) for churned users: 863\n",
      "Average number of interactions (events) for active users: 1348\n",
      "\n",
      "Average number of sessions for churned users: 10\n",
      "Average number of sessions for active users: 15\n",
      "\n",
      "Average number of items in a session for churned users: 84\n",
      "Average number of items in a session for active users: 88\n"
     ]
    }
   ],
   "source": [
    "print('Average number of interactions (events) for churned users: {:.0f}'.format(\n",
    "    df_clean.where(col('churn') == 1).count() / \n",
    "    df_clean.where(col('churn') == 1).groupBy('userId').count().count()))\n",
    "\n",
    "print('Average number of interactions (events) for active users: {:.0f}'.format(\n",
    "    df_clean.where(col('churn') == 0).count() / \n",
    "    df_clean.where(col('churn') == 0).groupBy('userId').count().count()))\n",
    "\n",
    "print('')\n",
    "\n",
    "# average number of sessions per user\n",
    "print('Average number of sessions for churned users: {:.0f}'.format(\n",
    "    df_clean.where(col('churn') == 1).groupBy('userId', 'sessionId').count().count() / \n",
    "    df_clean.where(col('churn') == 1).groupBy('userId').count().count()))\n",
    "\n",
    "print('Average number of sessions for active users: {:.0f}'.format(\n",
    "    df_clean.where(col('churn') == 0).groupBy('userId', 'sessionId').count().count() / \n",
    "    df_clean.where(col('churn') == 0).groupBy('userId').count().count()))\n",
    "\n",
    "print('')\n",
    "\n",
    "# average number of items in a session per user\n",
    "print('Average number of items in a session for churned users: {:.0f}'.format(\n",
    "    df_clean.where(col('churn') == 1).count() / \n",
    "    df_clean.where(col('churn') == 1).groupBy('userId', 'sessionId').count().count()))\n",
    "\n",
    "print('Average number of items in a session for active users: {:.0f}'.format(\n",
    "    df_clean.where(col('churn') == 0).count() / \n",
    "    df_clean.where(col('churn') == 0).groupBy('userId', 'sessionId').count().count()))"
   ]
  },
  {
   "cell_type": "markdown",
   "metadata": {},
   "source": [
    "Active users have higher average number of interactions, average number of sessions, and average number of items"
   ]
  },
  {
   "cell_type": "code",
   "execution_count": 39,
   "metadata": {},
   "outputs": [
    {
     "data": {
      "image/png": "[encoded data removed]",
      "text/plain": [
       "<matplotlib.figure.Figure at 0x7f6d1d2cbc18>"
      ]
     },
     "metadata": {
      "needs_background": "light"
     },
     "output_type": "display_data"
    },
    {
     "name": "stdout",
     "output_type": "stream",
     "text": [
      "\n",
      "Average session length for churned users (hours):\n",
      "+-------------------+\n",
      "|avg(session_length)|\n",
      "+-------------------+\n",
      "|  4.718692338992486|\n",
      "+-------------------+\n",
      "\n",
      "Average session length for active users (hours):\n",
      "+-------------------+\n",
      "|avg(session_length)|\n",
      "+-------------------+\n",
      "|  5.047589365434434|\n",
      "+-------------------+\n",
      "\n"
     ]
    }
   ],
   "source": [
    "# average session length per user\n",
    "# udf to convert time to correct format and show time difference in hours\n",
    "# source: https://stackoverflow.com/questions/30283415/calculating-duration-by-subtracting-two-datetime-columns-in-string-format\n",
    "time_delta = udf(lambda y, x: (datetime.datetime.strptime(y, '%Y-%m-%d %H:%M:%S') - \n",
    "                               datetime.datetime.strptime(x, '%Y-%m-%d %H:%M:%S')).total_seconds()/3600)\n",
    "\n",
    "# create dataframe with first timestamp (ts) per session\n",
    "# add column 'churn' and set as 1 for rows with churned user\n",
    "df_min = df_clean.groupBy('userId', 'sessionId').agg(min('ts').alias('min_ts'))\n",
    "df_min = df_min.withColumn('churn', when((df_min.userId).isin(churned_users), 1).otherwise(0))\n",
    "\n",
    "# create dataframe with last timestamp (ts) per session\n",
    "df_max = df_clean.groupBy('userId', 'sessionId').agg(max('ts').alias('max_ts'))\n",
    "\n",
    "# join dataframes\n",
    "df_ts = df_min.join(df_max, on=['userId', 'sessionId'])\n",
    "\n",
    "# apply udf when calculating and creating new column with time difference\n",
    "df_ts = df_ts.withColumn('session_length', time_delta(df_ts['max_ts'], df_ts['min_ts']).cast('float'))\n",
    "\n",
    "# graph of session length per user group\n",
    "# store columns to be used as pandas dataframe\n",
    "df_ts_pd = df_ts.select('churn', 'session_length').toPandas()\n",
    "\n",
    "# plot results\n",
    "plt.figure(figsize=(10,6))\n",
    "plt.hist(df_ts_pd['session_length'][df_ts_pd['churn'] == 0], label='Active')\n",
    "plt.hist(df_ts_pd['session_length'][df_ts_pd['churn'] == 1], label='Churned')\n",
    "plt.legend(loc='upper right')\n",
    "plt.title('Average session length (hours)')\n",
    "plt.xlabel('Average session length per user (hours)')\n",
    "plt.ylabel('Count')\n",
    "plt.show()\n",
    "\n",
    "print('')\n",
    "\n",
    "# average session length for churned users\n",
    "print('Average session length for churned users (hours):')\n",
    "df_ts.where(col('churn') == 1).agg(avg('session_length')).show()\n",
    "\n",
    "# average session length for active users\n",
    "print('Average session length for active users (hours):')\n",
    "df_ts.where(col('churn') == 0).agg(avg('session_length')).show()"
   ]
  },
  {
   "cell_type": "markdown",
   "metadata": {},
   "source": [
    "Average session length for active users is higher for active users"
   ]
  },
  {
   "cell_type": "code",
   "execution_count": 40,
   "metadata": {},
   "outputs": [
    {
     "data": {
      "image/png": "[encoded data removed]",
      "text/plain": [
       "<matplotlib.figure.Figure at 0x7f6d1c330a20>"
      ]
     },
     "metadata": {
      "needs_background": "light"
     },
     "output_type": "display_data"
    },
    {
     "name": "stdout",
     "output_type": "stream",
     "text": [
      "\n",
      "Average number of days registered for churned users:\n",
      "+--------------------+\n",
      "|avg(days_registered)|\n",
      "+--------------------+\n",
      "|   67.64847093437946|\n",
      "+--------------------+\n",
      "\n",
      "Average number of days registered for active users:\n",
      "+--------------------+\n",
      "|avg(days_registered)|\n",
      "+--------------------+\n",
      "|   92.97668995670625|\n",
      "+--------------------+\n",
      "\n"
     ]
    }
   ],
   "source": [
    "# average registration/usage length per user (days from registration date to ts for latest event)\n",
    "# create dataframe with last timestamp (ts) per user\n",
    "df_last = df_clean.groupBy('userId').agg(max('ts').alias('last_interaction'))\n",
    "\n",
    "# join dataframes and add column 'days_registered' with number of days from registration date to ts for last event\n",
    "df_reg = df_last.join(df_clean, on='userId').select(\n",
    "    df_last['*'], df_clean['registration'], df_clean['churn']).withColumn(\n",
    "    'days_registered', datediff(df_last['last_interaction'], df_clean['registration']))\n",
    "\n",
    "# graph of number of days registered per user group\n",
    "# store columns to be used as pandas dataframe\n",
    "df_reg_pd = df_reg.select('churn', 'days_registered').toPandas()\n",
    "\n",
    "# plot results\n",
    "plt.figure(figsize=(10,6))\n",
    "plt.hist(df_reg_pd['days_registered'][df_reg_pd['churn'] == 0], label='Active')\n",
    "plt.hist(df_reg_pd['days_registered'][df_reg_pd['churn'] == 1], label='Churned')\n",
    "plt.legend(loc='upper right')\n",
    "plt.title('Days registered')\n",
    "plt.xlabel('Number of days registered per user')\n",
    "plt.ylabel('Count')\n",
    "plt.show()\n",
    "\n",
    "print('')\n",
    "\n",
    "# get average number of days registered for churned users\n",
    "print('Average number of days registered for churned users:')\n",
    "df_reg.where(col('churn') == 1).agg(avg('days_registered')).show()\n",
    "\n",
    "# get average number of days registered for active users\n",
    "print('Average number of days registered for active users:')\n",
    "df_reg.where(col('churn') == 0).agg(avg('days_registered')).show()"
   ]
  },
  {
   "cell_type": "markdown",
   "metadata": {},
   "source": [
    "Active users are registered for more days than churned users"
   ]
  },
  {
   "cell_type": "code",
   "execution_count": 41,
   "metadata": {},
   "outputs": [
    {
     "name": "stdout",
     "output_type": "stream",
     "text": [
      "Average number of unique artists played per churned user: 162\n",
      "Average number of unique artists played per active user: 96\n",
      "\n",
      "Average number of unique songs played per churned user: 370\n",
      "Average number of unique songs played per active user: 308\n"
     ]
    }
   ],
   "source": [
    "# average number of unique artists played per user\n",
    "print('Average number of unique artists played per churned user: {:.0f}'.format(\n",
    "    df_clean.where(col('churn') == 1).groupBy('artist').count().count() / df_clean.where(\n",
    "    col('churn') == 1).groupBy('userId').count().count()))\n",
    "\n",
    "print('Average number of unique artists played per active user: {:.0f}'.format(\n",
    "    df_clean.where(col('churn') == 0).groupBy('artist').count().count() / df_clean.where(\n",
    "    col('churn') == 0).groupBy('userId').count().count()))\n",
    "\n",
    "print('')\n",
    "\n",
    "# average number of unique songs played per user\n",
    "print('Average number of unique songs played per churned user: {:.0f}'.format(\n",
    "    df_clean.where(col('churn') == 1).groupBy('song').count().count() / df_clean.where(\n",
    "    col('churn') == 1).groupBy('userId').count().count()))\n",
    "\n",
    "print('Average number of unique songs played per active user: {:.0f}'.format(\n",
    "    df_clean.where(col('churn') == 0).groupBy('song').count().count() / df_clean.where(\n",
    "    col('churn') == 0).groupBy('userId').count().count()))"
   ]
  },
  {
   "cell_type": "code",
   "execution_count": 42,
   "metadata": {},
   "outputs": [
    {
     "name": "stdout",
     "output_type": "stream",
     "text": [
      "Average number of unique artists played per session for churned users: 16\n",
      "Average number of unique artists played per session for active users: 6\n",
      "\n",
      "Average number of unique songs played per session for churned users: 36\n",
      "Average number of unique songs played per session for active users: 20\n"
     ]
    }
   ],
   "source": [
    "# average number of unique artists played per session\n",
    "print('Average number of unique artists played per session for churned users: {:.0f}'.format(\n",
    "    df_clean.where(col('churn') == 1).groupBy('artist').count().count() / df_clean.where(\n",
    "    col('churn') == 1).groupBy('userId', 'sessionId').count().count()))\n",
    "\n",
    "print('Average number of unique artists played per session for active users: {:.0f}'.format(\n",
    "    df_clean.where(col('churn') == 0).groupBy('artist').count().count() / df_clean.where(\n",
    "    col('churn') == 0).groupBy('userId', 'sessionId').count().count()))\n",
    "\n",
    "print('')\n",
    "\n",
    "# average number of unique songs played per session\n",
    "print('Average number of unique songs played per session for churned users: {:.0f}'.format(\n",
    "    df_clean.where(col('churn') == 1).groupBy('song').count().count() / df_clean.where(\n",
    "    col('churn') == 1).groupBy('userId', 'sessionId').count().count()))\n",
    "\n",
    "print('Average number of unique songs played per session for active users: {:.0f}'.format(\n",
    "    df_clean.where(col('churn') == 0).groupBy('song').count().count() / df_clean.where(\n",
    "    col('churn') == 0).groupBy('userId', 'sessionId').count().count()))"
   ]
  },
  {
   "cell_type": "code",
   "execution_count": 43,
   "metadata": {},
   "outputs": [
    {
     "name": "stdout",
     "output_type": "stream",
     "text": [
      "Share of churned users that are on a paid plan: 44%\n",
      "Share of churned users that are on a free plan: 56%\n",
      "\n",
      "Share of active users that are on a paid plan: 46%\n",
      "Share of active users that are on a free plan: 54%\n"
     ]
    }
   ],
   "source": [
    "# percent paid and free plans of churned users\n",
    "print('Share of churned users that are on a paid plan: {:.0f}%'.format(\n",
    "    df_clean.where((df_clean.level == 'paid') & (df_clean.churn == 1)).groupBy('userId').count().count() /\n",
    "    df_clean.where(df_clean.churn == 1).groupBy('userId', 'level').count().count() * 100))\n",
    "\n",
    "print('Share of churned users that are on a free plan: {:.0f}%'.format(\n",
    "    df_clean.where((df_clean.level == 'free') & (df_clean.churn == 1)).groupBy('userId').count().count() /\n",
    "    df_clean.where(df_clean.churn == 1).groupBy('userId', 'level').count().count() * 100))\n",
    "\n",
    "print('')\n",
    "\n",
    "# percent paid and free plans of active users\n",
    "print('Share of active users that are on a paid plan: {:.0f}%'.format(\n",
    "    df_clean.where((df_clean.level == 'paid') & (df_clean.churn == 0)).groupBy('userId').count().count() /\n",
    "    df_clean.where(df_clean.churn == 0).groupBy('userId', 'level').count().count() * 100))\n",
    "\n",
    "print('Share of active users that are on a free plan: {:.0f}%'.format(\n",
    "    df_clean.where((df_clean.level == 'free') & (df_clean.churn == 0)).groupBy('userId').count().count() /\n",
    "    df_clean.where(df_clean.churn == 0).groupBy('userId', 'level').count().count() * 100))"
   ]
  },
  {
   "cell_type": "code",
   "execution_count": 44,
   "metadata": {},
   "outputs": [
    {
     "data": {
      "image/png": "[encoded data removed]",
      "text/plain": [
       "<matplotlib.figure.Figure at 0x7f6d1bc49940>"
      ]
     },
     "metadata": {
      "needs_background": "light"
     },
     "output_type": "display_data"
    },
    {
     "name": "stdout",
     "output_type": "stream",
     "text": [
      "\n",
      "Number of events per page type for all events with a churned user:\n",
      "+--------------------+-----+\n",
      "|                page|count|\n",
      "+--------------------+-----+\n",
      "|            NextSong|36394|\n",
      "|           Thumbs Up| 1859|\n",
      "|                Home| 1672|\n",
      "|     Add to Playlist| 1038|\n",
      "|         Roll Advert|  967|\n",
      "|          Add Friend|  636|\n",
      "|              Logout|  553|\n",
      "|         Thumbs Down|  496|\n",
      "|           Downgrade|  337|\n",
      "|            Settings|  270|\n",
      "|                Help|  239|\n",
      "|             Upgrade|  112|\n",
      "|       Save Settings|   58|\n",
      "|               About|   56|\n",
      "|              Cancel|   52|\n",
      "|Cancellation Conf...|   52|\n",
      "|               Error|   32|\n",
      "|      Submit Upgrade|   32|\n",
      "|    Submit Downgrade|    9|\n",
      "+--------------------+-----+\n",
      "\n",
      "Number of events per page type for all events with active users:\n",
      "+----------------+------+\n",
      "|            page| count|\n",
      "+----------------+------+\n",
      "|        NextSong|191714|\n",
      "|       Thumbs Up| 10692|\n",
      "|            Home|  8410|\n",
      "| Add to Playlist|  5488|\n",
      "|      Add Friend|  3641|\n",
      "|     Roll Advert|  2966|\n",
      "|          Logout|  2673|\n",
      "|     Thumbs Down|  2050|\n",
      "|       Downgrade|  1718|\n",
      "|        Settings|  1244|\n",
      "|            Help|  1215|\n",
      "|           About|   439|\n",
      "|         Upgrade|   387|\n",
      "|   Save Settings|   252|\n",
      "|           Error|   220|\n",
      "|  Submit Upgrade|   127|\n",
      "|Submit Downgrade|    54|\n",
      "+----------------+------+\n",
      "\n"
     ]
    }
   ],
   "source": [
    "# graph of number of events per page type per user group\n",
    "# plot results as proportions instead of counts\n",
    "# source: https://stackoverflow.com/questions/35692781/python-plotting-percentage-in-seaborn-bar-plot\n",
    "plt.figure(figsize=(15,10))\n",
    "\n",
    "df_page_pd = df_clean.select('churn', 'page').toPandas()\n",
    "x, y, hue = 'page', 'proportion', 'churn'\n",
    "hue_order = ['Active users', 'Churned users']\n",
    "\n",
    "(df_page_pd[x]\n",
    " .groupby(df_page_pd[hue])\n",
    " .value_counts(normalize=True)\n",
    " .rename(y)\n",
    " .reset_index()\n",
    " .pipe((sns.barplot, 'data'), x=x, y=y, hue=hue))\n",
    "\n",
    "plt.legend(loc='upper right', title='Churn')\n",
    "plt.title('Number of events per page type (proportion of user group)')\n",
    "plt.xlabel('Page')\n",
    "plt.ylabel('Proportion')\n",
    "plt.xticks(rotation=90)\n",
    "plt.show()\n",
    "\n",
    "print('')\n",
    "\n",
    "print('Number of events per page type for all events with a churned user:')\n",
    "df_clean.where(col('churn') == 1).groupBy('page').count().sort(desc('count')).show()\n",
    "\n",
    "print('Number of events per page type for all events with active users:')\n",
    "df_clean.where(col('churn') == 0).groupBy('page').count().sort(desc('count')).show()"
   ]
  },
  {
   "cell_type": "code",
   "execution_count": 45,
   "metadata": {},
   "outputs": [
    {
     "name": "stdout",
     "output_type": "stream",
     "text": [
      "Average number of songs played for churned users: 700\n",
      "Average number of songs played for active users: 1108\n"
     ]
    }
   ],
   "source": [
    "# average number of songs played for churned and active users\n",
    "print('Average number of songs played for churned users: {:.0f}'.format(\n",
    "    df_clean.where((df_clean.page == 'NextSong') & (df_clean.churn == 1)).count() /\n",
    "    df_clean.where(df_clean.churn == 1).groupBy('userId').count().count()))\n",
    "\n",
    "print('Average number of songs played for active users: {:.0f}'.format(\n",
    "    df_clean.where((df_clean.page == 'NextSong') & (df_clean.churn == 0)).count() /\n",
    "    df_clean.where(df_clean.churn == 0).groupBy('userId').count().count()))"
   ]
  },
  {
   "cell_type": "code",
   "execution_count": 46,
   "metadata": {},
   "outputs": [
    {
     "name": "stdout",
     "output_type": "stream",
     "text": [
      "Average number of thumbs up for churned users: 36\n",
      "Average number of thumbs up for active users: 62\n"
     ]
    }
   ],
   "source": [
    "# average number of thumbs up for churned and active users\n",
    "print('Average number of thumbs up for churned users: {:.0f}'.format(\n",
    "    df_clean.where((df_clean.page == 'Thumbs Up') & (df_clean.churn == 1)).count() /\n",
    "    df_clean.where(df_clean.churn == 1).groupBy('userId').count().count()))\n",
    "\n",
    "print('Average number of thumbs up for active users: {:.0f}'.format(\n",
    "    df_clean.where((df_clean.page == 'Thumbs Up') & (df_clean.churn == 0)).count() /\n",
    "    df_clean.where(df_clean.churn == 0).groupBy('userId').count().count()))"
   ]
  },
  {
   "cell_type": "code",
   "execution_count": 47,
   "metadata": {},
   "outputs": [
    {
     "name": "stdout",
     "output_type": "stream",
     "text": [
      "Average number of home page visits for churned users: 32\n",
      "Average number of home page visits for active users: 49\n"
     ]
    }
   ],
   "source": [
    "# average number of home page visits for churned and active users\n",
    "print('Average number of home page visits for churned users: {:.0f}'.format(\n",
    "    df_clean.where((df_clean.page == 'Home') & (df_clean.churn == 1)).count() /\n",
    "    df_clean.where(df_clean.churn == 1).groupBy('userId').count().count()))\n",
    "\n",
    "print('Average number of home page visits for active users: {:.0f}'.format(\n",
    "    df_clean.where((df_clean.page == 'Home') & (df_clean.churn == 0)).count() /\n",
    "    df_clean.where(df_clean.churn == 0).groupBy('userId').count().count()))"
   ]
  },
  {
   "cell_type": "code",
   "execution_count": 48,
   "metadata": {},
   "outputs": [
    {
     "name": "stdout",
     "output_type": "stream",
     "text": [
      "Average number of added friends for churned users: 12\n",
      "Average number of added friends for active users: 21\n"
     ]
    }
   ],
   "source": [
    "# average number of added friends for churned and active users\n",
    "print('Average number of added friends for churned users: {:.0f}'.format(\n",
    "    df_clean.where((df_clean.page == 'Add Friend') & (df_clean.churn == 1)).count() /\n",
    "    df_clean.where(df_clean.churn == 1).groupBy('userId').count().count()))\n",
    "\n",
    "print('Average number of added friends for active users: {:.0f}'.format(\n",
    "    df_clean.where((df_clean.page == 'Add Friend') & (df_clean.churn == 0)).count() /\n",
    "    df_clean.where(df_clean.churn == 0).groupBy('userId').count().count()))"
   ]
  },
  {
   "cell_type": "code",
   "execution_count": 49,
   "metadata": {},
   "outputs": [
    {
     "name": "stdout",
     "output_type": "stream",
     "text": [
      "Average number of ads received for churned users: 19\n",
      "Average number of ads received for active users: 17\n"
     ]
    }
   ],
   "source": [
    "# average number of ads received for churned and active users\n",
    "print('Average number of ads received for churned users: {:.0f}'.format(\n",
    "    df_clean.where((df_clean.page == 'Roll Advert') & (df_clean.churn == 1)).count() /\n",
    "    df_clean.where(df_clean.churn == 1).groupBy('userId').count().count()))\n",
    "\n",
    "print('Average number of ads received for active users: {:.0f}'.format(\n",
    "    df_clean.where((df_clean.page == 'Roll Advert') & (df_clean.churn == 0)).count() /\n",
    "    df_clean.where(df_clean.churn == 0).groupBy('userId').count().count()))"
   ]
  },
  {
   "cell_type": "code",
   "execution_count": 50,
   "metadata": {},
   "outputs": [
    {
     "name": "stdout",
     "output_type": "stream",
     "text": [
      "Average number of logouts for churned users: 11\n",
      "Average number of logouts for active users: 15\n"
     ]
    }
   ],
   "source": [
    "# average number of logouts for churned and active users\n",
    "print('Average number of logouts for churned users: {:.0f}'.format(\n",
    "    df_clean.where((df_clean.page == 'Logout') & (df_clean.churn == 1)).count() /\n",
    "    df_clean.where(df_clean.churn == 1).groupBy('userId').count().count()))\n",
    "\n",
    "print('Average number of logouts for active users: {:.0f}'.format(\n",
    "    df_clean.where((df_clean.page == 'Logout') & (df_clean.churn == 0)).count() /\n",
    "    df_clean.where(df_clean.churn == 0).groupBy('userId').count().count()))"
   ]
  },
  {
   "cell_type": "code",
   "execution_count": 51,
   "metadata": {},
   "outputs": [
    {
     "name": "stdout",
     "output_type": "stream",
     "text": [
      "Average number of thumbs down for churned users: 10\n",
      "Average number of thumbs down for active users: 12\n"
     ]
    }
   ],
   "source": [
    "# average number of thumbs down for churned and active users\n",
    "print('Average number of thumbs down for churned users: {:.0f}'.format(\n",
    "    df_clean.where((df_clean.page == 'Thumbs Down') & (df_clean.churn == 1)).count() /\n",
    "    df_clean.where(df_clean.churn == 1).groupBy('userId').count().count()))\n",
    "\n",
    "print('Average number of thumbs down for active users: {:.0f}'.format(\n",
    "    df_clean.where((df_clean.page == 'Thumbs Down') & (df_clean.churn == 0)).count() /\n",
    "    df_clean.where(df_clean.churn == 0).groupBy('userId').count().count()))"
   ]
  },
  {
   "cell_type": "code",
   "execution_count": 52,
   "metadata": {},
   "outputs": [
    {
     "name": "stdout",
     "output_type": "stream",
     "text": [
      "Average number of settings page visits for churned users: 5\n",
      "Average number of settings page visits for active users: 7\n"
     ]
    }
   ],
   "source": [
    "# average number of settings page visits for churned and active users\n",
    "print('Average number of settings page visits for churned users: {:.0f}'.format(\n",
    "    df_clean.where((df_clean.page == 'Settings') & (df_clean.churn == 1)).count() /\n",
    "    df_clean.where(df_clean.churn == 1).groupBy('userId').count().count()))\n",
    "\n",
    "print('Average number of settings page visits for active users: {:.0f}'.format(\n",
    "    df_clean.where((df_clean.page == 'Settings') & (df_clean.churn == 0)).count() /\n",
    "    df_clean.where(df_clean.churn == 0).groupBy('userId').count().count()))"
   ]
  },
  {
   "cell_type": "code",
   "execution_count": 53,
   "metadata": {},
   "outputs": [
    {
     "name": "stdout",
     "output_type": "stream",
     "text": [
      "Average number of plan upgrades for churned users: 2\n",
      "Average number of plan upgrades for active users: 2\n"
     ]
    }
   ],
   "source": [
    "# average number of plan upgrades for churned and active users\n",
    "print('Average number of plan upgrades for churned users: {:.0f}'.format(\n",
    "    df_clean.where((df_clean.page == 'Upgrade') & (df_clean.churn == 1)).count() /\n",
    "    df_clean.where(df_clean.churn == 1).groupBy('userId').count().count()))\n",
    "\n",
    "print('Average number of plan upgrades for active users: {:.0f}'.format(\n",
    "    df_clean.where((df_clean.page == 'Upgrade') & (df_clean.churn == 0)).count() /\n",
    "    df_clean.where(df_clean.churn == 0).groupBy('userId').count().count()))"
   ]
  },
  {
   "cell_type": "code",
   "execution_count": 54,
   "metadata": {},
   "outputs": [
    {
     "name": "stdout",
     "output_type": "stream",
     "text": [
      "Number of female users in dataset: 104\n",
      "Number of male users in dataset: 121\n"
     ]
    }
   ],
   "source": [
    "# number of females in dataset\n",
    "print('Number of female users in dataset: {:.0f}'.format(\n",
    "df_clean.where(df_clean.gender == 'F').groupBy('userId').count().count()))\n",
    "\n",
    "# number of males in dataset\n",
    "print('Number of male users in dataset: {:.0f}'.format(\n",
    "df_clean.where(df_clean.gender == 'M').groupBy('userId').count().count()))"
   ]
  },
  {
   "cell_type": "code",
   "execution_count": 55,
   "metadata": {},
   "outputs": [
    {
     "name": "stdout",
     "output_type": "stream",
     "text": [
      "Percentage of all events that where made by females: 56%\n",
      "Percentage of all events that where made by males: 44%\n"
     ]
    }
   ],
   "source": [
    "# percent female of all events\n",
    "print('Percentage of all events that where made by females: {:.0f}%'.format(\n",
    "df_clean.where(df_clean.gender == 'F').count() / df_clean.count() * 100))\n",
    "\n",
    "# percent male of all events\n",
    "print('Percentage of all events that where made by males: {:.0f}%'.format(\n",
    "df_clean.where(df_clean.gender == 'M').count() / df_clean.count() * 100))"
   ]
  },
  {
   "cell_type": "code",
   "execution_count": 56,
   "metadata": {},
   "outputs": [
    {
     "data": {
      "image/png": "[encoded data removed]",
      "text/plain": [
       "<matplotlib.figure.Figure at 0x7f6d1e6b6c50>"
      ]
     },
     "metadata": {
      "needs_background": "light"
     },
     "output_type": "display_data"
    },
    {
     "name": "stdout",
     "output_type": "stream",
     "text": [
      "\n",
      "Share of churned users that are male: 62%\n",
      "Share of churned users that are female: 38%\n",
      "\n",
      "Share of active users that are male: 51%\n",
      "Share of active users that are female: 49%\n"
     ]
    }
   ],
   "source": [
    "plt.figure(figsize=(10,8))\n",
    "\n",
    "df_gender_pd = df_clean.select('churn', 'gender').toPandas()\n",
    "x, y, hue = 'gender', 'proportion', 'churn'\n",
    "hue_order = ['Active users', 'Churned users']\n",
    "\n",
    "(df_gender_pd[x]\n",
    " .groupby(df_gender_pd[hue])\n",
    " .value_counts(normalize=True)\n",
    " .rename(y)\n",
    " .reset_index()\n",
    " .pipe((sns.barplot, 'data'), x=x, y=y, hue=hue))\n",
    "\n",
    "plt.legend(loc='upper right', title='Churn')\n",
    "plt.title('Gender distribution for all events (proportion of user group)')\n",
    "plt.xlabel('Gender')\n",
    "plt.ylabel('Proportion')\n",
    "plt.show()\n",
    "\n",
    "print('')\n",
    "\n",
    "# percent males and females of churned users\n",
    "print('Share of churned users that are male: {:.0f}%'.format(\n",
    "    df_clean.where((df_clean.gender == 'M') & (df_clean.churn == 1)).groupBy('userId').count().count() /\n",
    "    df_clean.where(df_clean.churn == 1).groupBy('userId', 'gender').count().count() * 100))\n",
    "\n",
    "print('Share of churned users that are female: {:.0f}%'.format(\n",
    "    df_clean.where((df_clean.gender == 'F') & (df_clean.churn == 1)).groupBy('userId').count().count() /\n",
    "    df_clean.where(df_clean.churn == 1).groupBy('userId', 'gender').count().count() * 100))\n",
    "\n",
    "print('')\n",
    "\n",
    "# percent males and females of active users\n",
    "print('Share of active users that are male: {:.0f}%'.format(\n",
    "    df_clean.where((df_clean.gender == 'M') & (df_clean.churn == 0)).groupBy('userId').count().count() /\n",
    "    df_clean.where(df_clean.churn == 0).groupBy('userId', 'gender').count().count() * 100))\n",
    "\n",
    "print('Share of active users that are female: {:.0f}%'.format(\n",
    "    df_clean.where((df_clean.gender == 'F') & (df_clean.churn == 0)).groupBy('userId').count().count() /\n",
    "    df_clean.where(df_clean.churn == 0).groupBy('userId', 'gender').count().count() * 100))"
   ]
  },
  {
   "cell_type": "code",
   "execution_count": 57,
   "metadata": {},
   "outputs": [
    {
     "name": "stdout",
     "output_type": "stream",
     "text": [
      "Share of females that are churned users: 19%\n",
      "Share of females that are active users: 81%\n",
      "\n",
      "Share of males that are churned users: 26%\n",
      "Share of males that are active users: 74%\n"
     ]
    }
   ],
   "source": [
    "# percent churned and active of all females\n",
    "print('Share of females that are churned users: {:.0f}%'.format(\n",
    "    df_clean.where((df_clean.gender == 'F') & (df_clean.churn == 1)).groupBy('userId').count().count() /\n",
    "    df_clean.where(df_clean.gender == 'F').groupBy('userId').count().count() * 100))\n",
    "\n",
    "print('Share of females that are active users: {:.0f}%'.format(\n",
    "    df_clean.where((df_clean.gender == 'F') & (df_clean.churn == 0)).groupBy('userId').count().count() /\n",
    "    df_clean.where(df_clean.gender == 'F').groupBy('userId').count().count() * 100))\n",
    "    \n",
    "print('')\n",
    "\n",
    "# percent churned and active of all males\n",
    "print('Share of males that are churned users: {:.0f}%'.format(\n",
    "    df_clean.where((df_clean.gender == 'M') & (df_clean.churn == 1)).groupBy('userId').count().count() /\n",
    "    df_clean.where(df_clean.gender == 'M').groupBy('userId').count().count() * 100))\n",
    "\n",
    "print('Share of males that are active users: {:.0f}%'.format(\n",
    "    df_clean.where((df_clean.gender == 'M') & (df_clean.churn == 0)).groupBy('userId').count().count() /\n",
    "    df_clean.where(df_clean.gender == 'M').groupBy('userId').count().count() * 100))"
   ]
  },
  {
   "cell_type": "code",
   "execution_count": 58,
   "metadata": {},
   "outputs": [
    {
     "data": {
      "image/png": "[encoded data removed]",
      "text/plain": [
       "<matplotlib.figure.Figure at 0x7f6d1f15c7f0>"
      ]
     },
     "metadata": {
      "needs_background": "light"
     },
     "output_type": "display_data"
    },
    {
     "name": "stdout",
     "output_type": "stream",
     "text": [
      "\n",
      "States for all events with a churned user:\n",
      "+-----+-----+\n",
      "|state|count|\n",
      "+-----+-----+\n",
      "|   CA| 7613|\n",
      "|   CO| 4317|\n",
      "|   MS| 3839|\n",
      "|   WA| 3526|\n",
      "|   NY| 3356|\n",
      "|   OH| 3173|\n",
      "|   KY| 3016|\n",
      "|   AL| 2102|\n",
      "|   MI| 1958|\n",
      "|   FL| 1763|\n",
      "|   IL| 1603|\n",
      "|   PA| 1580|\n",
      "|   MO| 1361|\n",
      "|   TX| 1294|\n",
      "|   NC| 1050|\n",
      "|   IN|  918|\n",
      "|   AR|  520|\n",
      "|   SC|  494|\n",
      "|   MD|  268|\n",
      "|   MT|  254|\n",
      "|   AZ|  251|\n",
      "|   LA|  216|\n",
      "|   DC|  158|\n",
      "|   VA|  149|\n",
      "|   TN|   62|\n",
      "|   OR|   23|\n",
      "+-----+-----+\n",
      "\n",
      "States for all events with an active user:\n",
      "+-----+-----+\n",
      "|state|count|\n",
      "+-----+-----+\n",
      "|   CA|39158|\n",
      "|   NY|24864|\n",
      "|   TX|22200|\n",
      "|   NC|17418|\n",
      "|   MA|13873|\n",
      "|   FL|11427|\n",
      "|   PA| 8048|\n",
      "|   KY| 7326|\n",
      "|   NJ| 7001|\n",
      "|   GA| 6952|\n",
      "|   CT| 6720|\n",
      "|   IL| 6616|\n",
      "|   MO| 6059|\n",
      "|   MI| 5258|\n",
      "|   NH| 4764|\n",
      "|   VA| 4748|\n",
      "|   AZ| 4595|\n",
      "|   AK| 3563|\n",
      "|   TN| 3535|\n",
      "|   MD| 3424|\n",
      "|   CO| 3176|\n",
      "|   DC| 2932|\n",
      "|   WV| 2278|\n",
      "|   MN| 2241|\n",
      "|   MT| 2132|\n",
      "|   NV| 2042|\n",
      "|   OK| 1842|\n",
      "|   UT| 1419|\n",
      "|   WI| 1342|\n",
      "|   SC| 1011|\n",
      "|   LA|  955|\n",
      "|   RI|  927|\n",
      "|   MS|  795|\n",
      "|   AL|  755|\n",
      "|   IA|  651|\n",
      "|   OH|  347|\n",
      "|   IN|  344|\n",
      "|   WA|  246|\n",
      "|   NE|  187|\n",
      "|   OR|  119|\n",
      "+-----+-----+\n",
      "\n"
     ]
    }
   ],
   "source": [
    "# graph of location distribution for all events per user group\n",
    "plt.figure(figsize=(15,10))\n",
    "\n",
    "df_location_pd = df_clean.select('churn', 'state').toPandas()\n",
    "x, y, hue = 'state', 'proportion', 'churn'\n",
    "hue_order = ['Active users', 'Churned users']\n",
    "\n",
    "(df_location_pd[x]\n",
    " .groupby(df_location_pd[hue])\n",
    " .value_counts(normalize=True)\n",
    " .rename(y)\n",
    " .reset_index()\n",
    " .pipe((sns.barplot, 'data'), x=x, y=y, hue=hue))\n",
    "\n",
    "plt.legend(loc='upper right', title='Churn')\n",
    "plt.title('Location distribution for all events (proportion of user group)')\n",
    "plt.xlabel('State')\n",
    "plt.ylabel('Proportion')\n",
    "plt.xticks(rotation=90)\n",
    "plt.show()\n",
    "\n",
    "print('')\n",
    "\n",
    "print('States for all events with a churned user:')\n",
    "df_clean.where(col('churn') == 1).groupBy('state').count().sort(desc('count')).show(40)\n",
    "\n",
    "print('States for all events with an active user:')\n",
    "df_clean.where(col('churn') == 0).groupBy('state').count().sort(desc('count')).show(40)"
   ]
  },
  {
   "cell_type": "code",
   "execution_count": null,
   "metadata": {},
   "outputs": [],
   "source": []
  },
  {
   "cell_type": "code",
   "execution_count": null,
   "metadata": {},
   "outputs": [],
   "source": []
  },
  {
   "cell_type": "markdown",
   "metadata": {},
   "source": [
    "# Feature Engineering\n",
    "Once you've familiarized yourself with the data, build out the features you find promising to train your model on. To work with the full dataset, you can follow the following steps.\n",
    "- Write a script to extract the necessary features from the smaller subset of data\n",
    "- Ensure that your script is scalable, using the best practices discussed in Lesson 3\n",
    "- Try your script on the full data set, debugging your script if necessary\n",
    "\n",
    "If you are working in the classroom workspace, you can just extract features based on the small subset of data contained here. Be sure to transfer over this work to the larger dataset when you work on your Spark cluster."
   ]
  },
  {
   "cell_type": "code",
   "execution_count": 59,
   "metadata": {},
   "outputs": [],
   "source": [
    "# calculate and add new columns\n",
    "\n",
    "# create partitions\n",
    "w1 = Window.partitionBy('userId')\n",
    "w2 = Window.partitionBy('userId', 'sessionId')\n",
    "w3 = Window.partitionBy('userId', 'artist')\n",
    "w4 = Window.partitionBy('userId', 'song')\n",
    "\n",
    "# total_events - column with total number of events per user\n",
    "# create dataframe with row counts per user\n",
    "df_events = df_clean.select('userId', count('userId').over(w1).alias('total_events')).distinct()\n",
    "df_events = df_events.select(col('userId').alias('userId1'), 'total_events')\n",
    "\n",
    "# total_sessions - column with total number of sessions per user\n",
    "# create dataframe with session counts per user\n",
    "df_sessions = df_clean.select('userId', 'sessionId', count('userId').over(w2).alias('count')).distinct()\n",
    "df_sessions = df_sessions.withColumn('total_sessions', count('sessionId').over(w1))\n",
    "df_sessions = df_sessions.dropDuplicates(['userId'])\n",
    "df_sessions = df_sessions.select(col('userId').alias('userId2'), 'total_sessions')\n",
    "\n",
    "# min_ts_session and max_ts_session - columns with timestamp from first and latest event per user and session\n",
    "# session_length - column with session length in hours per session\n",
    "# avg_session_length - column with average session length per user\n",
    "# udf to convert time to correct format and show time difference in hours\n",
    "time_delta = udf(lambda y, x: (datetime.datetime.strptime(y, '%Y-%m-%d %H:%M:%S') - \n",
    "                                   datetime.datetime.strptime(x, '%Y-%m-%d %H:%M:%S')).total_seconds()/3600)\n",
    "\n",
    "# create columns with timestamp (ts) from first and latest event per user and session\n",
    "df_clean = df_clean.withColumn('min_ts_session', min('ts').over(w2))\n",
    "df_clean = df_clean.withColumn('max_ts_session', max('ts').over(w2))\n",
    "\n",
    "# apply udf when creating column with time difference (in hours)\n",
    "df_clean = df_clean.withColumn('session_length', time_delta(df_clean['max_ts_session'], \n",
    "                                                            df_clean['min_ts_session']).cast('float'))\n",
    "\n",
    "# create column with average session length per user (in hours)\n",
    "df_clean = df_clean.withColumn('avg_session_length', avg('session_length').over(w1))\n",
    "    \n",
    "# latest_ts and days_registered - columns with timestamp from latest event and with number of days registered\n",
    "# create column with timestamp (ts) from latest event per user\n",
    "df_clean = df_clean.withColumn('latest_ts', max('ts').over(w1))\n",
    "\n",
    "# create column 'days_registered'\n",
    "df_clean = df_clean.withColumn('days_registered', datediff(df_clean['latest_ts'], df_clean['registration']))\n",
    "\n",
    "# unique_artists - column with number of unique artists played per user\n",
    "# create dataframe with artist counts per user\n",
    "df_artist = df_clean.select('userId', 'artist', count('userId').over(w3).alias('count')).distinct()\n",
    "df_artist = df_artist.withColumn('unique_artists', count('artist').over(w1))\n",
    "df_artist = df_artist.dropDuplicates(['userId'])\n",
    "df_artist = df_artist.select(col('userId').alias('userId3'), 'unique_artists')\n",
    "\n",
    "# unique_songs - column with number of unique songs played per user\n",
    "# create dataframe with song counts per user\n",
    "df_song = df_clean.select('userId', 'song', count('userId').over(w4).alias('count')).distinct()\n",
    "df_song = df_song.withColumn('unique_songs', count('song').over(w1))\n",
    "df_song = df_song.dropDuplicates(['userId'])\n",
    "df_song = df_song.select(col('userId').alias('userId4'), 'unique_songs')\n",
    "\n",
    "# total_nextsong - column with number of 'NextSong' events per user\n",
    "# create dataframe with 'page = NextSong' counts per user\n",
    "df_nextsong = df_clean.where(df_clean.page == 'NextSong').select(\n",
    "    'userId', count('userId').over(w1).alias('total_nextsong')).distinct()\n",
    "df_nextsong = df_nextsong.select(col('userId').alias('userId5'), 'total_nextsong')\n",
    "\n",
    "# total_thumbsup - column with number of 'Thumbs Up' events per user\n",
    "# create dataframe with 'page = Thumbs Up' counts per user\n",
    "df_thumbsup = df_clean.where(df_clean.page == 'Thumbs Up').select(\n",
    "    'userId', count('userId').over(w1).alias('total_thumbsup')).distinct()\n",
    "df_thumbsup = df_thumbsup.select(col('userId').alias('userId6'), 'total_thumbsup')\n",
    "\n",
    "# total_home - column with number of 'Home' events per user\n",
    "# create dataframe with 'page = Home' counts per user\n",
    "df_home = df_clean.where(df_clean.page == 'Home').select(\n",
    "    'userId', count('userId').over(w1).alias('total_home')).distinct()\n",
    "df_home = df_home.select(col('userId').alias('userId7'), 'total_home')\n",
    "\n",
    "# total_addfriend - column with number of 'Add Friend' events per user\n",
    "# create dataframe with 'page = Add Friend' counts per user\n",
    "df_addfriend = df_clean.where(df_clean.page == 'Add Friend').select(\n",
    "    'userId', count('userId').over(w1).alias('total_addfriend')).distinct()\n",
    "df_addfriend = df_addfriend.select(col('userId').alias('userId8'), 'total_addfriend')\n",
    "\n",
    "# total_rolladvert - column with number of 'Roll Advert' events per user\n",
    "# create dataframe with 'page = Roll Advert' counts per user\n",
    "df_rolladvert = df_clean.where(df_clean.page == 'Roll Advert').select(\n",
    "    'userId', count('userId').over(w1).alias('total_rolladvert')).distinct()\n",
    "df_rolladvert = df_rolladvert.select(col('userId').alias('userId9'), 'total_rolladvert')\n",
    "\n",
    "# latest_event - column indicating row with latest event per user\n",
    "df_clean = df_clean.withColumn('latest_event', when(df_clean.latest_ts == df_clean.ts, 1).otherwise(0))\n",
    "\n",
    "# keep only row with latest event per user in data to be used for modeling\n",
    "df_ml = df_clean.where(col('latest_event') == 1)\n",
    "\n",
    "# drop duplicates from dataframe\n",
    "df_ml = df_ml.dropDuplicates(['userId'])\n",
    "\n",
    "# recode 'gender' to numerical binary\n",
    "df_ml = df_ml.withColumn('gender', when(df_ml.gender == 'F', 1).otherwise(0))\n",
    "\n",
    "# only keep columns to be used in modeling and replace NaN with 0\n",
    "df_ml = df_ml.select('userId', 'churn', 'gender', 'state', 'avg_session_length', \n",
    "                     'days_registered', ).fillna(0)\n",
    "\n",
    "# add columns to df_ml and replace NaN with 0 for column\n",
    "# add column 'total_events'\n",
    "df_ml = df_ml.join(df_events, df_ml.userId == df_events.userId1, how='left').select(\n",
    "    df_ml['*'], df_events['total_events']).fillna(0, subset=['total_events'])\n",
    "\n",
    "# add column 'total_sessions'\n",
    "df_ml = df_ml.join(df_sessions, df_ml.userId == df_sessions.userId2, how='left').select(\n",
    "    df_ml['*'], df_sessions['total_sessions']).fillna(0, subset=['total_sessions'])\n",
    "\n",
    "# add column 'unique_artists'\n",
    "df_ml = df_ml.join(df_artist, df_ml.userId == df_artist.userId3, how='left').select(\n",
    "    df_ml['*'], df_artist['unique_artists']).fillna(0, subset=['unique_artists'])\n",
    "\n",
    "# add column 'unique_songs'\n",
    "df_ml = df_ml.join(df_song, df_ml.userId == df_song.userId4, how='left').select(\n",
    "    df_ml['*'], df_song['unique_songs']).fillna(0, subset=['unique_songs'])\n",
    "\n",
    "# add column 'total_nextsong'\n",
    "df_ml = df_ml.join(df_nextsong, df_ml.userId == df_nextsong.userId5, how='left').select(\n",
    "    df_ml['*'], df_nextsong['total_nextsong']).fillna(0, subset=['total_nextsong'])\n",
    "\n",
    "# add column 'total_thumbsup'\n",
    "df_ml = df_ml.join(df_thumbsup, df_ml.userId == df_thumbsup.userId6, how='left').select(\n",
    "    df_ml['*'], df_thumbsup['total_thumbsup']).fillna(0, subset=['total_thumbsup'])\n",
    "\n",
    "# add column 'total_home'\n",
    "df_ml = df_ml.join(df_home, df_ml.userId == df_home.userId7, how='left').select(\n",
    "    df_ml['*'], df_home['total_home']).fillna(0, subset=['total_home'])\n",
    "\n",
    "# add column 'total_addfriend'\n",
    "df_ml = df_ml.join(df_addfriend, df_ml.userId == df_addfriend.userId8, how='left').select(\n",
    "    df_ml['*'], df_addfriend['total_addfriend']).fillna(0, subset=['total_addfriend'])\n",
    "\n",
    "# add column 'total_rolladvert'\n",
    "df_ml = df_ml.join(df_rolladvert, df_ml.userId == df_rolladvert.userId9, how='left').select(\n",
    "    df_ml['*'], df_rolladvert['total_rolladvert']).fillna(0, subset=['total_rolladvert'])"
   ]
  },
  {
   "cell_type": "code",
   "execution_count": 61,
   "metadata": {},
   "outputs": [
    {
     "name": "stdout",
     "output_type": "stream",
     "text": [
      "root\n",
      " |-- userId: string (nullable = true)\n",
      " |-- churn: integer (nullable = false)\n",
      " |-- gender: integer (nullable = false)\n",
      " |-- state: string (nullable = true)\n",
      " |-- avg_session_length: double (nullable = false)\n",
      " |-- days_registered: integer (nullable = true)\n",
      " |-- total_events: long (nullable = true)\n",
      " |-- total_sessions: long (nullable = true)\n",
      " |-- unique_artists: long (nullable = true)\n",
      " |-- unique_songs: long (nullable = true)\n",
      " |-- total_nextsong: long (nullable = true)\n",
      " |-- total_thumbsup: long (nullable = true)\n",
      " |-- total_home: long (nullable = true)\n",
      " |-- total_addfriend: long (nullable = true)\n",
      " |-- total_rolladvert: long (nullable = true)\n",
      "\n"
     ]
    }
   ],
   "source": [
    "df_ml.printSchema()"
   ]
  },
  {
   "cell_type": "code",
   "execution_count": 62,
   "metadata": {},
   "outputs": [
    {
     "data": {
      "text/plain": [
       "DataFrame[userId: string, churn: int, gender: int, state: string, avg_session_length: double, days_registered: int, total_events: bigint, total_sessions: bigint, unique_artists: bigint, unique_songs: bigint, total_nextsong: bigint, total_thumbsup: bigint, total_home: bigint, total_addfriend: bigint, total_rolladvert: bigint]"
      ]
     },
     "execution_count": 62,
     "metadata": {},
     "output_type": "execute_result"
    }
   ],
   "source": [
    "df_ml.cache()"
   ]
  },
  {
   "cell_type": "code",
   "execution_count": 63,
   "metadata": {},
   "outputs": [
    {
     "data": {
      "image/png": "[encoded data removed]",
      "text/plain": [
       "<matplotlib.figure.Figure at 0x7f6d1beace10>"
      ]
     },
     "metadata": {
      "needs_background": "light"
     },
     "output_type": "display_data"
    },
    {
     "name": "stdout",
     "output_type": "stream",
     "text": [
      "Basic statistics for churned users:\n",
      "+-------+-----------------+\n",
      "|summary|     total_events|\n",
      "+-------+-----------------+\n",
      "|  count|               52|\n",
      "|   mean|862.7692307692307|\n",
      "| stddev|852.2623782542744|\n",
      "|    min|               11|\n",
      "|    25%|              187|\n",
      "|    50%|              552|\n",
      "|    75%|             1102|\n",
      "|    max|             3603|\n",
      "+-------+-----------------+\n",
      "\n",
      "Basic statistics for active users:\n",
      "+-------+------------------+\n",
      "|summary|      total_events|\n",
      "+-------+------------------+\n",
      "|  count|               173|\n",
      "|   mean|1348.4971098265896|\n",
      "| stddev| 1425.428636571019|\n",
      "|    min|                 6|\n",
      "|    25%|               321|\n",
      "|    50%|               940|\n",
      "|    75%|              2005|\n",
      "|    max|              9632|\n",
      "+-------+------------------+\n",
      "\n"
     ]
    }
   ],
   "source": [
    "# plot total_events\n",
    "# store column values as array\n",
    "churn = df_ml.select('total_events').where(df_ml['churn'] == 1).toPandas().values.tolist()\n",
    "active = df_ml.select('total_events').where(df_ml['churn'] == 0).toPandas().values.tolist()\n",
    "\n",
    "# plot boxplots of both arrays in the same plot\n",
    "data = [churn, active]\n",
    "fig, ax = plt.subplots(figsize=(6,6))\n",
    "ax.boxplot(data)\n",
    "ax.set_xticklabels(['Churned', 'Active'])\n",
    "plt.title('Total events')\n",
    "plt.show()\n",
    "\n",
    "# plot basic statistics\n",
    "print('Basic statistics for churned users:')\n",
    "df_ml.select('total_events').where(df_ml['churn'] == 1).summary().show()\n",
    "print('Basic statistics for active users:')\n",
    "df_ml.select('total_events').where(df_ml['churn'] == 0).summary().show()"
   ]
  },
  {
   "cell_type": "code",
   "execution_count": 64,
   "metadata": {},
   "outputs": [
    {
     "data": {
      "image/png": "[encoded data removed]",
      "text/plain": [
       "<matplotlib.figure.Figure at 0x7f6d2ac5feb8>"
      ]
     },
     "metadata": {
      "needs_background": "light"
     },
     "output_type": "display_data"
    },
    {
     "name": "stdout",
     "output_type": "stream",
     "text": [
      "Basic statistics for churned users:\n",
      "+-------+------------------+\n",
      "|summary|    total_sessions|\n",
      "+-------+------------------+\n",
      "|  count|                52|\n",
      "|   mean|10.326923076923077|\n",
      "| stddev|  8.61080295917924|\n",
      "|    min|                 1|\n",
      "|    25%|                 5|\n",
      "|    50%|                 8|\n",
      "|    75%|                12|\n",
      "|    max|                37|\n",
      "+-------+------------------+\n",
      "\n",
      "Basic statistics for active users:\n",
      "+-------+------------------+\n",
      "|summary|    total_sessions|\n",
      "+-------+------------------+\n",
      "|  count|               173|\n",
      "|   mean|15.254335260115607|\n",
      "| stddev|15.866963127421307|\n",
      "|    min|                 1|\n",
      "|    25%|                 6|\n",
      "|    50%|                11|\n",
      "|    75%|                19|\n",
      "|    max|               107|\n",
      "+-------+------------------+\n",
      "\n"
     ]
    }
   ],
   "source": [
    "# plot total_sessions\n",
    "# store column values as array\n",
    "churn = df_ml.select('total_sessions').where(df_ml['churn'] == 1).toPandas().values.tolist()\n",
    "active = df_ml.select('total_sessions').where(df_ml['churn'] == 0).toPandas().values.tolist()\n",
    "\n",
    "# plot boxplots of both arrays in the same plot\n",
    "data = [churn, active]\n",
    "fig, ax = plt.subplots(figsize=(6,6))\n",
    "ax.boxplot(data)\n",
    "ax.set_xticklabels(['Churned', 'Active'])\n",
    "plt.title('Total sessions')\n",
    "plt.show()\n",
    "\n",
    "# plot basic statistics\n",
    "print('Basic statistics for churned users:')\n",
    "df_ml.select('total_sessions').where(df_ml['churn'] == 1).summary().show()\n",
    "print('Basic statistics for active users:')\n",
    "df_ml.select('total_sessions').where(df_ml['churn'] == 0).summary().show()"
   ]
  },
  {
   "cell_type": "code",
   "execution_count": 65,
   "metadata": {},
   "outputs": [
    {
     "data": {
      "image/png": "[encoded data removed]",
      "text/plain": [
       "<matplotlib.figure.Figure at 0x7f6d24cdf6d8>"
      ]
     },
     "metadata": {
      "needs_background": "light"
     },
     "output_type": "display_data"
    },
    {
     "name": "stdout",
     "output_type": "stream",
     "text": [
      "Basic statistics for churned users:\n",
      "+-------+------------------+\n",
      "|summary|avg_session_length|\n",
      "+-------+------------------+\n",
      "|  count|                52|\n",
      "|   mean| 8.048868485300888|\n",
      "| stddev| 6.345236883473346|\n",
      "|    min|0.4927777647972107|\n",
      "|    25%|3.3211112022399902|\n",
      "|    50%|  6.38861172152296|\n",
      "|    75%| 9.441156521151143|\n",
      "|    max| 31.70917101300778|\n",
      "+-------+------------------+\n",
      "\n",
      "Basic statistics for active users:\n",
      "+-------+-------------------+\n",
      "|summary| avg_session_length|\n",
      "+-------+-------------------+\n",
      "|  count|                173|\n",
      "|   mean| 10.080303650836603|\n",
      "| stddev|  6.913496501718813|\n",
      "|    min|0.11666666716337204|\n",
      "|    25%|  5.094972980089402|\n",
      "|    50%|    9.1002779006958|\n",
      "|    75%| 13.971460027764826|\n",
      "|    max|  43.79557182164721|\n",
      "+-------+-------------------+\n",
      "\n"
     ]
    }
   ],
   "source": [
    "# plot avg_session_length\n",
    "# store column values as list\n",
    "churn = df_ml.select('avg_session_length').where(df_ml['churn'] == 1).toPandas().values.tolist()\n",
    "active = df_ml.select('avg_session_length').where(df_ml['churn'] == 0).toPandas().values.tolist()\n",
    "\n",
    "# plot boxplots of both lists in the same plot\n",
    "data = [churn, active]\n",
    "fig, ax = plt.subplots(figsize=(6,6))\n",
    "ax.boxplot(data)\n",
    "ax.set_xticklabels(['Churned', 'Active'])\n",
    "plt.title('Average session length (hours)')\n",
    "plt.show()\n",
    "\n",
    "# plot basic statistics\n",
    "print('Basic statistics for churned users:')\n",
    "df_ml.select('avg_session_length').where(df_ml['churn'] == 1).summary().show()\n",
    "print('Basic statistics for active users:')\n",
    "df_ml.select('avg_session_length').where(df_ml['churn'] == 0).summary().show()"
   ]
  },
  {
   "cell_type": "code",
   "execution_count": 66,
   "metadata": {},
   "outputs": [
    {
     "data": {
      "image/png": "[encoded data removed]",
      "text/plain": [
       "<matplotlib.figure.Figure at 0x7f6d1ee4be80>"
      ]
     },
     "metadata": {
      "needs_background": "light"
     },
     "output_type": "display_data"
    },
    {
     "name": "stdout",
     "output_type": "stream",
     "text": [
      "Basic statistics for churned users:\n",
      "+-------+------------------+\n",
      "|summary|   days_registered|\n",
      "+-------+------------------+\n",
      "|  count|                52|\n",
      "|   mean| 57.36538461538461|\n",
      "| stddev|36.587809416366895|\n",
      "|    min|                 5|\n",
      "|    25%|                29|\n",
      "|    50%|                50|\n",
      "|    75%|                73|\n",
      "|    max|               188|\n",
      "+-------+------------------+\n",
      "\n",
      "Basic statistics for active users:\n",
      "+-------+-----------------+\n",
      "|summary|  days_registered|\n",
      "+-------+-----------------+\n",
      "|  count|              173|\n",
      "|   mean|86.56647398843931|\n",
      "| stddev|35.33432397636966|\n",
      "|    min|                0|\n",
      "|    25%|               65|\n",
      "|    50%|               76|\n",
      "|    75%|              103|\n",
      "|    max|              256|\n",
      "+-------+-----------------+\n",
      "\n"
     ]
    }
   ],
   "source": [
    "# plot days_registered\n",
    "# store column values as list\n",
    "churn = df_ml.select('days_registered').where(df_ml['churn'] == 1).toPandas().values.tolist()\n",
    "active = df_ml.select('days_registered').where(df_ml['churn'] == 0).toPandas().values.tolist()\n",
    "\n",
    "# plot boxplots of both lists in the same plot\n",
    "data = [churn, active]\n",
    "fig, ax = plt.subplots(figsize=(6,6))\n",
    "ax.boxplot(data)\n",
    "ax.set_xticklabels(['Churned', 'Active'])\n",
    "plt.title('Days registered')\n",
    "plt.show()\n",
    "\n",
    "# plot basic statistics\n",
    "print('Basic statistics for churned users:')\n",
    "df_ml.select('days_registered').where(df_ml['churn'] == 1).summary().show()\n",
    "print('Basic statistics for active users:')\n",
    "df_ml.select('days_registered').where(df_ml['churn'] == 0).summary().show()"
   ]
  },
  {
   "cell_type": "code",
   "execution_count": 67,
   "metadata": {},
   "outputs": [
    {
     "data": {
      "image/png": "[encoded data removed]",
      "text/plain": [
       "<matplotlib.figure.Figure at 0x7f6d1faa2e10>"
      ]
     },
     "metadata": {
      "needs_background": "light"
     },
     "output_type": "display_data"
    },
    {
     "name": "stdout",
     "output_type": "stream",
     "text": [
      "Basic statistics for churned users:\n",
      "+-------+-----------------+\n",
      "|summary|   unique_artists|\n",
      "+-------+-----------------+\n",
      "|  count|               52|\n",
      "|   mean|518.6923076923077|\n",
      "| stddev|455.9143167892335|\n",
      "|    min|                8|\n",
      "|    25%|              125|\n",
      "|    50%|              374|\n",
      "|    75%|              741|\n",
      "|    max|             1804|\n",
      "+-------+-----------------+\n",
      "\n",
      "Basic statistics for active users:\n",
      "+-------+-----------------+\n",
      "|summary|   unique_artists|\n",
      "+-------+-----------------+\n",
      "|  count|              173|\n",
      "|   mean|749.7861271676301|\n",
      "| stddev| 633.235440098802|\n",
      "|    min|                3|\n",
      "|    25%|              226|\n",
      "|    50%|              587|\n",
      "|    75%|             1137|\n",
      "|    max|             3544|\n",
      "+-------+-----------------+\n",
      "\n"
     ]
    }
   ],
   "source": [
    "# plot unique_artists\n",
    "# store column values as list\n",
    "churn = df_ml.select('unique_artists').where(df_ml['churn'] == 1).toPandas().values.tolist()\n",
    "active = df_ml.select('unique_artists').where(df_ml['churn'] == 0).toPandas().values.tolist()\n",
    "\n",
    "# plot boxplots of both lists in the same plot\n",
    "data = [churn, active]\n",
    "fig, ax = plt.subplots(figsize=(6,6))\n",
    "ax.boxplot(data)\n",
    "ax.set_xticklabels(['Churned', 'Active'])\n",
    "plt.title('Unique artists')\n",
    "plt.show()\n",
    "\n",
    "# plot basic statistics\n",
    "print('Basic statistics for churned users:')\n",
    "df_ml.select('unique_artists').where(df_ml['churn'] == 1).summary().show()\n",
    "print('Basic statistics for active users:')\n",
    "df_ml.select('unique_artists').where(df_ml['churn'] == 0).summary().show()"
   ]
  },
  {
   "cell_type": "code",
   "execution_count": 68,
   "metadata": {},
   "outputs": [
    {
     "data": {
      "image/png": "[encoded data removed]",
      "text/plain": [
       "<matplotlib.figure.Figure at 0x7f6d26018a58>"
      ]
     },
     "metadata": {
      "needs_background": "light"
     },
     "output_type": "display_data"
    },
    {
     "name": "stdout",
     "output_type": "stream",
     "text": [
      "Basic statistics for churned users:\n",
      "+-------+-----------------+\n",
      "|summary|     unique_songs|\n",
      "+-------+-----------------+\n",
      "|  count|               52|\n",
      "|   mean|638.3653846153846|\n",
      "| stddev|619.5986692490094|\n",
      "|    min|                8|\n",
      "|    25%|              129|\n",
      "|    50%|              412|\n",
      "|    75%|              875|\n",
      "|    max|             2562|\n",
      "+-------+-----------------+\n",
      "\n",
      "Basic statistics for active users:\n",
      "+-------+-----------------+\n",
      "|summary|     unique_songs|\n",
      "+-------+-----------------+\n",
      "|  count|              173|\n",
      "|   mean|975.7687861271677|\n",
      "| stddev|951.9128806124245|\n",
      "|    min|                3|\n",
      "|    25%|              239|\n",
      "|    50%|              696|\n",
      "|    75%|             1477|\n",
      "|    max|             5946|\n",
      "+-------+-----------------+\n",
      "\n"
     ]
    }
   ],
   "source": [
    "# plot unique_songs\n",
    "# store column values as list\n",
    "churn = df_ml.select('unique_songs').where(df_ml['churn'] == 1).toPandas().values.tolist()\n",
    "active = df_ml.select('unique_songs').where(df_ml['churn'] == 0).toPandas().values.tolist()\n",
    "\n",
    "# plot boxplots of both lists in the same plot\n",
    "data = [churn, active]\n",
    "fig, ax = plt.subplots(figsize=(6,6))\n",
    "ax.boxplot(data)\n",
    "ax.set_xticklabels(['Churned', 'Active'])\n",
    "plt.title('Unique songs')\n",
    "plt.show()\n",
    "\n",
    "# plot basic statistics\n",
    "print('Basic statistics for churned users:')\n",
    "df_ml.select('unique_songs').where(df_ml['churn'] == 1).summary().show()\n",
    "print('Basic statistics for active users:')\n",
    "df_ml.select('unique_songs').where(df_ml['churn'] == 0).summary().show()"
   ]
  },
  {
   "cell_type": "code",
   "execution_count": 69,
   "metadata": {},
   "outputs": [
    {
     "data": {
      "image/png": "[encoded data removed]",
      "text/plain": [
       "<matplotlib.figure.Figure at 0x7f6d2802ed68>"
      ]
     },
     "metadata": {
      "needs_background": "light"
     },
     "output_type": "display_data"
    },
    {
     "name": "stdout",
     "output_type": "stream",
     "text": [
      "Basic statistics for churned users:\n",
      "+-------+-----------------+\n",
      "|summary|   total_nextsong|\n",
      "+-------+-----------------+\n",
      "|  count|               52|\n",
      "|   mean|699.8846153846154|\n",
      "| stddev|714.7376497666588|\n",
      "|    min|                8|\n",
      "|    25%|              133|\n",
      "|    50%|              429|\n",
      "|    75%|              927|\n",
      "|    max|             3028|\n",
      "+-------+-----------------+\n",
      "\n",
      "Basic statistics for active users:\n",
      "+-------+------------------+\n",
      "|summary|    total_nextsong|\n",
      "+-------+------------------+\n",
      "|  count|               173|\n",
      "|   mean|1108.1734104046243|\n",
      "| stddev|1183.1467030410008|\n",
      "|    min|                 3|\n",
      "|    25%|               251|\n",
      "|    50%|               747|\n",
      "|    75%|              1640|\n",
      "|    max|              8002|\n",
      "+-------+------------------+\n",
      "\n"
     ]
    }
   ],
   "source": [
    "# plot total_nextsong\n",
    "# store column values as list\n",
    "churn = df_ml.select('total_nextsong').where(df_ml['churn'] == 1).toPandas().values.tolist()\n",
    "active = df_ml.select('total_nextsong').where(df_ml['churn'] == 0).toPandas().values.tolist()\n",
    "\n",
    "# plot boxplots of both lists in the same plot\n",
    "data = [churn, active]\n",
    "fig, ax = plt.subplots(figsize=(6,6))\n",
    "ax.boxplot(data)\n",
    "ax.set_xticklabels(['Churned', 'Active'])\n",
    "plt.title('Total NextSong')\n",
    "plt.show()\n",
    "\n",
    "# plot basic statistics\n",
    "print('Basic statistics for churned users:')\n",
    "df_ml.select('total_nextsong').where(df_ml['churn'] == 1).summary().show()\n",
    "print('Basic statistics for active users:')\n",
    "df_ml.select('total_nextsong').where(df_ml['churn'] == 0).summary().show()"
   ]
  },
  {
   "cell_type": "code",
   "execution_count": 70,
   "metadata": {},
   "outputs": [
    {
     "data": {
      "image/png": "[encoded data removed]",
      "text/plain": [
       "<matplotlib.figure.Figure at 0x7f6d2890fda0>"
      ]
     },
     "metadata": {
      "needs_background": "light"
     },
     "output_type": "display_data"
    },
    {
     "name": "stdout",
     "output_type": "stream",
     "text": [
      "Basic statistics for churned users:\n",
      "+-------+------------------+\n",
      "|summary|    total_thumbsup|\n",
      "+-------+------------------+\n",
      "|  count|                52|\n",
      "|   mean|             35.75|\n",
      "| stddev|39.697816900513146|\n",
      "|    min|                 0|\n",
      "|    25%|                 8|\n",
      "|    50%|                19|\n",
      "|    75%|                45|\n",
      "|    max|               163|\n",
      "+-------+------------------+\n",
      "\n",
      "Basic statistics for active users:\n",
      "+-------+-----------------+\n",
      "|summary|   total_thumbsup|\n",
      "+-------+-----------------+\n",
      "|  count|              173|\n",
      "|   mean|61.80346820809248|\n",
      "| stddev|70.41642406853158|\n",
      "|    min|                0|\n",
      "|    25%|               14|\n",
      "|    50%|               41|\n",
      "|    75%|               84|\n",
      "|    max|              437|\n",
      "+-------+-----------------+\n",
      "\n"
     ]
    }
   ],
   "source": [
    "# plot total_thumbsup\n",
    "# store column values as list\n",
    "churn = df_ml.select('total_thumbsup').where(df_ml['churn'] == 1).toPandas().values.tolist()\n",
    "active = df_ml.select('total_thumbsup').where(df_ml['churn'] == 0).toPandas().values.tolist()\n",
    "\n",
    "# plot boxplots of both lists in the same plot\n",
    "data = [churn, active]\n",
    "fig, ax = plt.subplots(figsize=(6,6))\n",
    "ax.boxplot(data)\n",
    "ax.set_xticklabels(['Churned', 'Active'])\n",
    "plt.title('Total Thumbs Up')\n",
    "plt.show()\n",
    "\n",
    "# plot basic statistics\n",
    "print('Basic statistics for churned users:')\n",
    "df_ml.select('total_thumbsup').where(df_ml['churn'] == 1).summary().show()\n",
    "print('Basic statistics for active users:')\n",
    "df_ml.select('total_thumbsup').where(df_ml['churn'] == 0).summary().show()"
   ]
  },
  {
   "cell_type": "code",
   "execution_count": 71,
   "metadata": {},
   "outputs": [
    {
     "data": {
      "image/png": "[encoded data removed]",
      "text/plain": [
       "<matplotlib.figure.Figure at 0x7f6d25691748>"
      ]
     },
     "metadata": {
      "needs_background": "light"
     },
     "output_type": "display_data"
    },
    {
     "name": "stdout",
     "output_type": "stream",
     "text": [
      "Basic statistics for churned users:\n",
      "+-------+------------------+\n",
      "|summary|        total_home|\n",
      "+-------+------------------+\n",
      "|  count|                52|\n",
      "|   mean| 32.15384615384615|\n",
      "| stddev|29.368106360328266|\n",
      "|    min|                 0|\n",
      "|    25%|                10|\n",
      "|    50%|                21|\n",
      "|    75%|                47|\n",
      "|    max|               129|\n",
      "+-------+------------------+\n",
      "\n",
      "Basic statistics for active users:\n",
      "+-------+-----------------+\n",
      "|summary|       total_home|\n",
      "+-------+-----------------+\n",
      "|  count|              173|\n",
      "|   mean|48.61271676300578|\n",
      "| stddev|50.93618054493799|\n",
      "|    min|                0|\n",
      "|    25%|               14|\n",
      "|    50%|               35|\n",
      "|    75%|               69|\n",
      "|    max|              355|\n",
      "+-------+-----------------+\n",
      "\n"
     ]
    }
   ],
   "source": [
    "# plot total_home\n",
    "# store column values as list\n",
    "churn = df_ml.select('total_home').where(df_ml['churn'] == 1).toPandas().values.tolist()\n",
    "active = df_ml.select('total_home').where(df_ml['churn'] == 0).toPandas().values.tolist()\n",
    "\n",
    "# plot boxplots of both lists in the same plot\n",
    "data = [churn, active]\n",
    "fig, ax = plt.subplots(figsize=(6,6))\n",
    "ax.boxplot(data)\n",
    "ax.set_xticklabels(['Churned', 'Active'])\n",
    "plt.title('Total home')\n",
    "plt.show()\n",
    "\n",
    "# plot basic statistics\n",
    "print('Basic statistics for churned users:')\n",
    "df_ml.select('total_home').where(df_ml['churn'] == 1).summary().show()\n",
    "print('Basic statistics for active users:')\n",
    "df_ml.select('total_home').where(df_ml['churn'] == 0).summary().show()"
   ]
  },
  {
   "cell_type": "code",
   "execution_count": 72,
   "metadata": {},
   "outputs": [
    {
     "data": {
      "image/png": "[encoded data removed]",
      "text/plain": [
       "<matplotlib.figure.Figure at 0x7f6d1ece3898>"
      ]
     },
     "metadata": {
      "needs_background": "light"
     },
     "output_type": "display_data"
    },
    {
     "name": "stdout",
     "output_type": "stream",
     "text": [
      "Basic statistics for churned users:\n",
      "+-------+------------------+\n",
      "|summary|   total_addfriend|\n",
      "+-------+------------------+\n",
      "|  count|                52|\n",
      "|   mean| 12.23076923076923|\n",
      "| stddev|11.157720240502051|\n",
      "|    min|                 0|\n",
      "|    25%|                 2|\n",
      "|    50%|                10|\n",
      "|    75%|                19|\n",
      "|    max|                47|\n",
      "+-------+------------------+\n",
      "\n",
      "Basic statistics for active users:\n",
      "+-------+------------------+\n",
      "|summary|   total_addfriend|\n",
      "+-------+------------------+\n",
      "|  count|               173|\n",
      "|   mean|21.046242774566473|\n",
      "| stddev|22.286666946671954|\n",
      "|    min|                 0|\n",
      "|    25%|                 6|\n",
      "|    50%|                16|\n",
      "|    75%|                28|\n",
      "|    max|               143|\n",
      "+-------+------------------+\n",
      "\n"
     ]
    }
   ],
   "source": [
    "# plot total_addfriend\n",
    "# store column values as list\n",
    "churn = df_ml.select('total_addfriend').where(df_ml['churn'] == 1).toPandas().values.tolist()\n",
    "active = df_ml.select('total_addfriend').where(df_ml['churn'] == 0).toPandas().values.tolist()\n",
    "\n",
    "# plot boxplots of both lists in the same plot\n",
    "data = [churn, active]\n",
    "fig, ax = plt.subplots(figsize=(6,6))\n",
    "ax.boxplot(data)\n",
    "ax.set_xticklabels(['Churned', 'Active'])\n",
    "plt.title('Total Add Friend')\n",
    "plt.show()\n",
    "\n",
    "# plot basic statistics\n",
    "print('Basic statistics for churned users:')\n",
    "df_ml.select('total_addfriend').where(df_ml['churn'] == 1).summary().show()\n",
    "print('Basic statistics for active users:')\n",
    "df_ml.select('total_addfriend').where(df_ml['churn'] == 0).summary().show()"
   ]
  },
  {
   "cell_type": "code",
   "execution_count": 73,
   "metadata": {},
   "outputs": [
    {
     "data": {
      "image/png": "[encoded data removed]",
      "text/plain": [
       "<matplotlib.figure.Figure at 0x7f6d20d11f98>"
      ]
     },
     "metadata": {
      "needs_background": "light"
     },
     "output_type": "display_data"
    },
    {
     "name": "stdout",
     "output_type": "stream",
     "text": [
      "Basic statistics for churned users:\n",
      "+-------+------------------+\n",
      "|summary|  total_rolladvert|\n",
      "+-------+------------------+\n",
      "|  count|                52|\n",
      "|   mean|18.596153846153847|\n",
      "| stddev|21.799675852406267|\n",
      "|    min|                 0|\n",
      "|    25%|                 3|\n",
      "|    50%|                11|\n",
      "|    75%|                27|\n",
      "|    max|               115|\n",
      "+-------+------------------+\n",
      "\n",
      "Basic statistics for active users:\n",
      "+-------+------------------+\n",
      "|summary|  total_rolladvert|\n",
      "+-------+------------------+\n",
      "|  count|               173|\n",
      "|   mean| 17.14450867052023|\n",
      "| stddev|21.527076957738625|\n",
      "|    min|                 0|\n",
      "|    25%|                 3|\n",
      "|    50%|                11|\n",
      "|    75%|                21|\n",
      "|    max|               128|\n",
      "+-------+------------------+\n",
      "\n"
     ]
    }
   ],
   "source": [
    "# plot total_rolladvert\n",
    "# store column values as list\n",
    "churn = df_ml.select('total_rolladvert').where(df_ml['churn'] == 1).toPandas().values.tolist()\n",
    "active = df_ml.select('total_rolladvert').where(df_ml['churn'] == 0).toPandas().values.tolist()\n",
    "\n",
    "# plot boxplots of both lists in the same plot\n",
    "data = [churn, active]\n",
    "fig, ax = plt.subplots(figsize=(6,6))\n",
    "ax.boxplot(data)\n",
    "ax.set_xticklabels(['Churned', 'Active'])\n",
    "plt.title('Total Roll Advert')\n",
    "plt.show()\n",
    "\n",
    "# plot basic statistics\n",
    "print('Basic statistics for churned users:')\n",
    "df_ml.select('total_rolladvert').where(df_ml['churn'] == 1).summary().show()\n",
    "print('Basic statistics for active users:')\n",
    "df_ml.select('total_rolladvert').where(df_ml['churn'] == 0).summary().show()"
   ]
  },
  {
   "cell_type": "code",
   "execution_count": 74,
   "metadata": {},
   "outputs": [
    {
     "data": {
      "image/png": "[encoded data removed]",
      "text/plain": [
       "<matplotlib.figure.Figure at 0x7f6d2b8c8c18>"
      ]
     },
     "metadata": {
      "needs_background": "light"
     },
     "output_type": "display_data"
    }
   ],
   "source": [
    "# correlation matrix of numerical columns\n",
    "# create correlation matrix\n",
    "df_corr = df_ml.toPandas().corr()\n",
    "\n",
    "plt.figure(figsize=(15,12))\n",
    "plt.title('Correlation between numerical columns')\n",
    "\n",
    "# create a mask for the upper triangle\n",
    "mask = np.zeros_like(df_corr)\n",
    "mask[np.triu_indices_from(mask)] = True\n",
    "\n",
    "# create custom color range for heatmap to match other graphs in notebook\n",
    "cmap = mcolors.LinearSegmentedColormap.from_list('n',['#99E1A8', '#FFFFFF','#97BFEE'])\n",
    "\n",
    "sns.heatmap(df_corr, mask=mask, annot=True, linewidths=0.5, cmap=cmap)\n",
    "plt.show()"
   ]
  },
  {
   "cell_type": "code",
   "execution_count": 75,
   "metadata": {},
   "outputs": [],
   "source": [
    "# data modeling preparation pipeline\n",
    "\n",
    "# list of numerical columns\n",
    "numerical_cols = ['avg_session_length',\n",
    "                  'days_registered', \n",
    "                  'total_events', \n",
    "                  'total_sessions', \n",
    "                  'unique_artists',\n",
    "                  'unique_songs', \n",
    "                  'total_nextsong', \n",
    "                  'total_thumbsup', \n",
    "                  'total_home', \n",
    "                  'total_addfriend', \n",
    "                  'total_rolladvert']\n",
    "\n",
    "# convert sting column to index column\n",
    "indexer = StringIndexer(inputCol='state', outputCol='stateIndex', handleInvalid='keep')\n",
    "inputs = [indexer.getOutputCol(), 'gender']\n",
    "# one hot encode categorical columns to numerical vector columns\n",
    "encoder = OneHotEncoderEstimator(inputCols=inputs, outputCols=['stateVec', 'genderVec'], handleInvalid='keep')\n",
    "# transform numerical columns to a single vector column\n",
    "num_assembler = VectorAssembler(inputCols=numerical_cols, outputCol='num_features')\n",
    "# apply scaler (MinMax scaler preserves original data distribution)\n",
    "scaler = MinMaxScaler(inputCol='num_features', outputCol='scaled_features')\n",
    "# transform all create vector columns into one vector column\n",
    "assembler = VectorAssembler(inputCols=['stateVec', 'genderVec', 'scaled_features'], outputCol='features')\n",
    "# create pipeline with above steps\n",
    "data_pipeline = Pipeline(stages=[indexer, encoder, num_assembler, scaler, assembler])\n",
    "# fit dataframe to pipleine and transform\n",
    "df_ml = data_pipeline.fit(df_ml).transform(df_ml)"
   ]
  },
  {
   "cell_type": "code",
   "execution_count": null,
   "metadata": {},
   "outputs": [],
   "source": []
  },
  {
   "cell_type": "code",
   "execution_count": null,
   "metadata": {},
   "outputs": [],
   "source": []
  },
  {
   "cell_type": "markdown",
   "metadata": {},
   "source": [
    "# Modeling\n",
    "Split the full dataset into train, test, and validation sets. Test out several of the machine learning methods you learned. Evaluate the accuracy of the various models, tuning parameters as necessary. Determine your winning model based on test accuracy and report results on the validation set. Since the churned users are a fairly small subset, I suggest using F1 score as the metric to optimize."
   ]
  },
  {
   "cell_type": "code",
   "execution_count": 76,
   "metadata": {},
   "outputs": [
    {
     "name": "stdout",
     "output_type": "stream",
     "text": [
      "Shape of train, validation and test sets:\n",
      "(168, 21)\n",
      "(11, 21)\n",
      "(46, 21)\n"
     ]
    }
   ],
   "source": [
    "# split data into train, validation and test sets\n",
    "train, validation_test = df_ml.randomSplit([0.7, 0.3], seed = 79)\n",
    "validation, test = validation_test.randomSplit([0.5, 0.5], seed = 79)\n",
    "\n",
    "# shape of datasets (spark random split doesn't guarantee a split exactly to the input weigths)\n",
    "print('Shape of train, validation and test sets:')\n",
    "print((train.count(), len(train.columns)))\n",
    "print((validation.count(), len(validation.columns)))\n",
    "print((test.count(), len(test.columns)))"
   ]
  },
  {
   "cell_type": "code",
   "execution_count": 77,
   "metadata": {},
   "outputs": [
    {
     "name": "stdout",
     "output_type": "stream",
     "text": [
      "Total training time for naive bayes: 7.551792144775391 seconds\n",
      "Total training time for logic regression: 223.62216305732727 seconds\n",
      "Total training time for linear svc: 1232.4080018997192 seconds\n",
      "Total training time for random forest: 47.04706883430481 seconds\n",
      "Total training time for decision tree: 27.298327445983887 seconds\n"
     ]
    }
   ],
   "source": [
    "# set up and fit models to training data\n",
    "# baseline results for each model without any hyperparameter tuning\n",
    "# add timer to see how long it takes to train each model\n",
    "\n",
    "# Naive Bayes\n",
    "start1 = time()\n",
    "nb = NaiveBayes(featuresCol='features', labelCol='churn')\n",
    "nb_model = nb.fit(train)\n",
    "end1 = time()\n",
    "\n",
    "print('Total training time for naive bayes: {} seconds'.format(end1 - start1))\n",
    "\n",
    "# logistic regression\n",
    "start2 = time()\n",
    "lr = LogisticRegression(featuresCol='features', labelCol='churn')\n",
    "lr_model = lr.fit(train)\n",
    "end2 = time()\n",
    "\n",
    "print('Total training time for logic regression: {} seconds'.format(end2 - start2))\n",
    "\n",
    "# linear svc (support vector machine)\n",
    "start3 = time()\n",
    "svc = LinearSVC(featuresCol='features', labelCol='churn')\n",
    "svc_model = svc.fit(train)\n",
    "end3 = time()\n",
    "\n",
    "print('Total training time for linear svc: {} seconds'.format(end3 - start3))\n",
    "\n",
    "# random forest\n",
    "start4 = time()\n",
    "rf = RandomForestClassifier(featuresCol='features', labelCol='churn', seed=4)\n",
    "rf_model = rf.fit(train)\n",
    "end4 = time()\n",
    "\n",
    "print('Total training time for random forest: {} seconds'.format(end4 - start4))\n",
    "\n",
    "# decision tree\n",
    "start5 = time()\n",
    "dt = DecisionTreeClassifier(featuresCol='features', labelCol='churn', seed=4)\n",
    "dt_model = dt.fit(train)\n",
    "end5 = time()\n",
    "\n",
    "print('Total training time for decision tree: {} seconds'.format(end5 - start5))"
   ]
  },
  {
   "cell_type": "code",
   "execution_count": 78,
   "metadata": {},
   "outputs": [
    {
     "name": "stdout",
     "output_type": "stream",
     "text": [
      "F1 score for naive bayes on validation set: 0.5656565656565656\n",
      "Area under PR for naive bayes on validation set: 0.13636363636363635\n",
      "\n",
      "F1 score for logistic regression on validation set: 0.6363636363636364\n",
      "Area under PR for logistic regression on validation set: 0.31313131313131315\n",
      "\n",
      "F1 score for linear svc on validation set: 0.5656565656565656\n",
      "Area under PR for linear svc on validation set: 0.13636363636363635\n",
      "\n",
      "F1 score for random forest on validation set: 0.6124401913875599\n",
      "Area under PR for random forest on validation set: 0.2727272727272727\n",
      "\n",
      "F1 score for decision tree on validation set: 0.7828282828282829\n",
      "Area under PR for decision tree on validation set: 0.7575757575757576\n",
      "\n"
     ]
    }
   ],
   "source": [
    "# baseline model predictions\n",
    "# create lists with the models and their respective names\n",
    "models = [nb_model,\n",
    "          lr_model,\n",
    "          svc_model,\n",
    "          rf_model,\n",
    "          dt_model]\n",
    "\n",
    "model_names = ['naive bayes',\n",
    "               'logistic regression',\n",
    "               'linear svc',\n",
    "               'random forest',\n",
    "               'decision tree']\n",
    "\n",
    "# for all models, make prediction, calculate f1 scores and display results\n",
    "for i in range(len(models)):\n",
    "    model = models[i]\n",
    "    model_name = model_names[i]\n",
    "    # predict on validation set\n",
    "    validation_prediction = model.transform(validation)\n",
    "    # use MulticlassClassificationEvaluator to get f1 scores\n",
    "    evaluator1 = MulticlassClassificationEvaluator(labelCol='churn')\n",
    "    # use BinaryClassificationEvaluator to get area under PR \n",
    "    evaluator2 = BinaryClassificationEvaluator(rawPredictionCol='prediction', labelCol='churn')\n",
    "    # make evaluation and print f1-score and area under PR per model\n",
    "    print('F1 score for {} on validation set: {}'.format((model_name), (evaluator1.evaluate(\n",
    "        validation_prediction, {evaluator1.metricName:'f1'}))))\n",
    "    \n",
    "    print('Area under PR for {} on validation set: {}'.format((model_name), (evaluator2.evaluate(\n",
    "        validation_prediction, {evaluator2.metricName:'areaUnderPR'}))))\n",
    "    \n",
    "    print('')"
   ]
  },
  {
   "cell_type": "code",
   "execution_count": 79,
   "metadata": {},
   "outputs": [
    {
     "data": {
      "text/plain": [
       "'cacheNodeIds: If false, the algorithm will pass trees to executors to match instances with nodes. If true, the algorithm will cache node IDs for each instance. Caching can speed up training of deeper trees. Users can set how often should the cache be checkpointed or disable it by setting checkpointInterval. (default: False)\\ncheckpointInterval: set checkpoint interval (>= 1) or disable checkpoint (-1). E.g. 10 means that the cache will get checkpointed every 10 iterations. Note: this setting will be ignored if the checkpoint directory is not set in the SparkContext. (default: 10)\\nfeaturesCol: features column name. (default: features, current: features)\\nimpurity: Criterion used for information gain calculation (case-insensitive). Supported options: entropy, gini (default: gini)\\nlabelCol: label column name. (default: label, current: churn)\\nmaxBins: Max number of bins for discretizing continuous features.  Must be >=2 and >= number of categories for any categorical feature. (default: 32)\\nmaxDepth: Maximum depth of the tree. (>= 0) E.g., depth 0 means 1 leaf node; depth 1 means 1 internal node + 2 leaf nodes. (default: 5)\\nmaxMemoryInMB: Maximum memory in MB allocated to histogram aggregation. If too small, then 1 node will be split per iteration, and its aggregates may exceed this size. (default: 256)\\nminInfoGain: Minimum information gain for a split to be considered at a tree node. (default: 0.0)\\nminInstancesPerNode: Minimum number of instances each child must have after split. If a split causes the left or right child to have fewer than minInstancesPerNode, the split will be discarded as invalid. Should be >= 1. (default: 1)\\npredictionCol: prediction column name. (default: prediction)\\nprobabilityCol: Column name for predicted class conditional probabilities. Note: Not all models output well-calibrated probability estimates! These probabilities should be treated as confidences, not precise probabilities. (default: probability)\\nrawPredictionCol: raw prediction (a.k.a. confidence) column name. (default: rawPrediction)\\nseed: random seed. (default: -3749157241138188777, current: 4)'"
      ]
     },
     "execution_count": 79,
     "metadata": {},
     "output_type": "execute_result"
    }
   ],
   "source": [
    "# get parameter options for decision tree model\n",
    "dt.explainParams()"
   ]
  },
  {
   "cell_type": "code",
   "execution_count": 80,
   "metadata": {},
   "outputs": [
    {
     "name": "stdout",
     "output_type": "stream",
     "text": [
      "Total training time for hyperparameter tuning on decision tree model: 1104.2134783267975 seconds\n"
     ]
    }
   ],
   "source": [
    "# tune hyperparapeters with ParamGridBuilder and CrossValidator\n",
    "# build paramGrid with hyperparameters to tune\n",
    "paramGrid = (ParamGridBuilder()\n",
    "            .addGrid(dt.impurity,['entropy', 'gini']) # default: gini\n",
    "            .addGrid(dt.maxDepth, [5, 10, 15]) # default: 5\n",
    "            .build())\n",
    "\n",
    "# add paramGrid to CrossValidator\n",
    "crossval = CrossValidator(estimator = dt,\n",
    "                          estimatorParamMaps = paramGrid,\n",
    "                          evaluator = MulticlassClassificationEvaluator(labelCol='churn'),\n",
    "                          numFolds = 5)\n",
    "\n",
    "# fit cv model\n",
    "start7 = time()\n",
    "cv_dt = crossval.fit(train)\n",
    "end7 = time()\n",
    "\n",
    "print('Total training time for hyperparameter tuning on decision tree model: {} seconds'.format(end7 - start7))"
   ]
  },
  {
   "cell_type": "code",
   "execution_count": 81,
   "metadata": {},
   "outputs": [
    {
     "name": "stdout",
     "output_type": "stream",
     "text": [
      "F1 score for tuned decision tree model on validation set: 0.7828282828282829\n"
     ]
    }
   ],
   "source": [
    "# predict on validation set\n",
    "validation_prediction_dt = cv_dt.transform(validation)\n",
    "\n",
    "# make evaluation and print f1-score\n",
    "print('F1 score for tuned decision tree model on validation set: {}'.format(evaluator1.evaluate(\n",
    "    validation_prediction_dt, {evaluator1.metricName:'f1'})))"
   ]
  },
  {
   "cell_type": "code",
   "execution_count": 82,
   "metadata": {},
   "outputs": [
    {
     "name": "stdout",
     "output_type": "stream",
     "text": [
      "F1 score for tuned decision tree model on test set: 0.6356399265156154\n"
     ]
    }
   ],
   "source": [
    "# predict on test set\n",
    "test_prediction_dt = cv_dt.transform(test)\n",
    "\n",
    "# make evaluation and print f1-score\n",
    "print('F1 score for tuned decision tree model on test set: {}'.format(evaluator1.evaluate(test_prediction_dt, \n",
    "                                                                     {evaluator1.metricName:'f1'})))"
   ]
  },
  {
   "cell_type": "code",
   "execution_count": 83,
   "metadata": {},
   "outputs": [
    {
     "name": "stdout",
     "output_type": "stream",
     "text": [
      "F1 score for baseline decision tree model on test set: 0.6356399265156154\n"
     ]
    }
   ],
   "source": [
    "# test baseline decision tree model on test set\n",
    "# predict on test set\n",
    "test_prediction_dt_baseline = dt_model.transform(test)\n",
    "\n",
    "# make evaluation and print f1-score\n",
    "print('F1 score for baseline decision tree model on test set: {}'.format(evaluator1.evaluate(\n",
    "            test_prediction_dt_baseline, {evaluator1.metricName:'f1'})))"
   ]
  },
  {
   "cell_type": "code",
   "execution_count": 84,
   "metadata": {},
   "outputs": [
    {
     "data": {
      "text/plain": [
       "{Param(parent='DecisionTreeClassifier_8f606e72996c', name='cacheNodeIds', doc='If false, the algorithm will pass trees to executors to match instances with nodes. If true, the algorithm will cache node IDs for each instance. Caching can speed up training of deeper trees.'): False,\n",
       " Param(parent='DecisionTreeClassifier_8f606e72996c', name='checkpointInterval', doc='set checkpoint interval (>= 1) or disable checkpoint (-1). E.g. 10 means that the cache will get checkpointed every 10 iterations. Note: this setting will be ignored if the checkpoint directory is not set in the SparkContext'): 10,\n",
       " Param(parent='DecisionTreeClassifier_8f606e72996c', name='featuresCol', doc='features column name'): 'features',\n",
       " Param(parent='DecisionTreeClassifier_8f606e72996c', name='impurity', doc='Criterion used for information gain calculation (case-insensitive). Supported options: entropy, gini'): 'gini',\n",
       " Param(parent='DecisionTreeClassifier_8f606e72996c', name='labelCol', doc='label column name'): 'churn',\n",
       " Param(parent='DecisionTreeClassifier_8f606e72996c', name='maxBins', doc='Max number of bins for discretizing continuous features.  Must be >=2 and >= number of categories for any categorical feature.'): 32,\n",
       " Param(parent='DecisionTreeClassifier_8f606e72996c', name='maxDepth', doc='Maximum depth of the tree. (>= 0) E.g., depth 0 means 1 leaf node; depth 1 means 1 internal node + 2 leaf nodes.'): 5,\n",
       " Param(parent='DecisionTreeClassifier_8f606e72996c', name='maxMemoryInMB', doc='Maximum memory in MB allocated to histogram aggregation.'): 256,\n",
       " Param(parent='DecisionTreeClassifier_8f606e72996c', name='minInfoGain', doc='Minimum information gain for a split to be considered at a tree node.'): 0.0,\n",
       " Param(parent='DecisionTreeClassifier_8f606e72996c', name='minInstancesPerNode', doc='Minimum number of instances each child must have after split.  If a split causes the left or right child to have fewer than minInstancesPerNode, the split will be discarded as invalid. Should be >= 1.'): 1,\n",
       " Param(parent='DecisionTreeClassifier_8f606e72996c', name='predictionCol', doc='prediction column name'): 'prediction',\n",
       " Param(parent='DecisionTreeClassifier_8f606e72996c', name='probabilityCol', doc='Column name for predicted class conditional probabilities. Note: Not all models output well-calibrated probability estimates! These probabilities should be treated as confidences, not precise probabilities'): 'probability',\n",
       " Param(parent='DecisionTreeClassifier_8f606e72996c', name='rawPredictionCol', doc='raw prediction (a.k.a. confidence) column name'): 'rawPrediction',\n",
       " Param(parent='DecisionTreeClassifier_8f606e72996c', name='seed', doc='random seed'): 4}"
      ]
     },
     "execution_count": 84,
     "metadata": {},
     "output_type": "execute_result"
    }
   ],
   "source": [
    "# get parameter options for best decision tree model\n",
    "cv_dt.bestModel.extractParamMap()"
   ]
  },
  {
   "cell_type": "code",
   "execution_count": 85,
   "metadata": {},
   "outputs": [],
   "source": [
    "# function to extract feature importance score and name for model, convert to pandas dataframe and\n",
    "# add column with cumulative score\n",
    "# source: https://www.timlrx.com/2018/06/19/feature-selection-using-feature-importance-\n",
    "# score-creating-a-pyspark-estimator/\n",
    "\n",
    "def extract_feature_imp(featureImp, dataset, featuresCol):\n",
    "    # dictionary to replace vector name with feature name\n",
    "    feat_name_dict = {\n",
    "        'scaled_features_0': 'avg_session_length',\n",
    "        'scaled_features_1': 'days_registered',\n",
    "        'scaled_features_2': 'total_events',\n",
    "        'scaled_features_3': 'total_sessions',\n",
    "        'scaled_features_4': 'unique_artists',\n",
    "        'scaled_features_5': 'unique_songs',\n",
    "        'scaled_features_6': 'total_nextsong',\n",
    "        'scaled_features_7': 'total_thumbsup',\n",
    "        'scaled_features_8': 'total_home',\n",
    "        'scaled_features_9': 'total_addfriend',\n",
    "        'scaled_features_10': 'total_rolladvert',\n",
    "        'stateVec_ CA': 'state: CA',\n",
    "        'stateVec_ NY': 'state: NY',\n",
    "        'stateVec_ TX': 'state: TX',\n",
    "        'stateVec_ FL': 'state: FL',\n",
    "        'stateVec_ NC': 'state: NC',\n",
    "        'stateVec_ IL': 'state: IL',\n",
    "        'stateVec_ PA': 'state: PA',\n",
    "        'stateVec_ MO': 'state: MO',\n",
    "        'stateVec_ CT': 'state: CT',\n",
    "        'stateVec_ AZ': 'state: AZ',\n",
    "        'stateVec_ GA': 'state: GA',\n",
    "        'stateVec_ OH': 'state: OH',\n",
    "        'stateVec_ MA': 'state: MA',\n",
    "        'stateVec_ MI': 'state: MI',\n",
    "        'stateVec_ DC': 'state: DC',\n",
    "        'stateVec_ CO': 'state: CO',\n",
    "        'stateVec_ AL': 'state: AL',\n",
    "        'stateVec_ VA': 'state: VA',\n",
    "        'stateVec_ KY': 'state: KY',\n",
    "        'stateVec_ WA': 'state: WA',\n",
    "        'stateVec_ OR': 'state: OR',\n",
    "        'stateVec_ MS': 'state: MS',\n",
    "        'stateVec_ SC': 'state: SC',\n",
    "        'stateVec_ MN': 'state: MN',\n",
    "        'stateVec_ IN': 'state: IN',\n",
    "        'stateVec_ TN': 'state: TN',\n",
    "        'stateVec_ MD': 'state: MD',\n",
    "        'stateVec_ NV': 'state: NV',\n",
    "        'stateVec_ RI': 'state: RI',\n",
    "        'stateVec_ MT': 'state: MT',\n",
    "        'stateVec_ NH': 'state: NH',\n",
    "        'stateVec_ LA': 'state: LA',\n",
    "        'stateVec_ UT': 'state: UT',\n",
    "        'stateVec_ AK': 'state: AK',\n",
    "        'stateVec_ NJ': 'state: NJ',\n",
    "        'stateVec_ WI': 'state: WI',\n",
    "        'stateVec_ WV': 'state: WV',\n",
    "        'stateVec_ IA': 'state: IA',\n",
    "        'stateVec_ OK': 'state: OK',\n",
    "        'stateVec_ NE': 'state: NE',\n",
    "        'stateVec_ AR': 'state: AR',\n",
    "        'stateVec___unknown': 'state:__unknown',\n",
    "        'genderVec_0': 'gender: male',\n",
    "        'genderVec_1': 'gender: female'}\n",
    "    \n",
    "    list_extract = []\n",
    "    \n",
    "    for i in dataset.schema[featuresCol].metadata[\"ml_attr\"][\"attrs\"]:\n",
    "        list_extract = list_extract + dataset.schema[featuresCol].metadata[\"ml_attr\"][\"attrs\"][i]\n",
    "    \n",
    "    # create pandas dataframe with index and feature vector name from metadata\n",
    "    df = pd.DataFrame(list_extract)\n",
    "    # add column with feature importance score\n",
    "    df['score'] = df['idx'].apply(lambda x: featureImp[x])\n",
    "    df = df.sort_values('score', ascending = False)\n",
    "    # add column with cumulative feature importance score\n",
    "    df['cumulative_score'] = df['score'].cumsum()\n",
    "    # replace feature vector name with feature name\n",
    "    df['name'] = df['name'].map(feat_name_dict)\n",
    "    \n",
    "    return df"
   ]
  },
  {
   "cell_type": "code",
   "execution_count": 86,
   "metadata": {},
   "outputs": [
    {
     "data": {
      "text/html": [
       "<div>\n",
       "<style scoped>\n",
       "    .dataframe tbody tr th:only-of-type {\n",
       "        vertical-align: middle;\n",
       "    }\n",
       "\n",
       "    .dataframe tbody tr th {\n",
       "        vertical-align: top;\n",
       "    }\n",
       "\n",
       "    .dataframe thead th {\n",
       "        text-align: right;\n",
       "    }\n",
       "</style>\n",
       "<table border=\"1\" class=\"dataframe\">\n",
       "  <thead>\n",
       "    <tr style=\"text-align: right;\">\n",
       "      <th></th>\n",
       "      <th>idx</th>\n",
       "      <th>name</th>\n",
       "      <th>score</th>\n",
       "      <th>cumulative_score</th>\n",
       "    </tr>\n",
       "  </thead>\n",
       "  <tbody>\n",
       "    <tr>\n",
       "      <th>1</th>\n",
       "      <td>45</td>\n",
       "      <td>days_registered</td>\n",
       "      <td>0.423347</td>\n",
       "      <td>0.423347</td>\n",
       "    </tr>\n",
       "    <tr>\n",
       "      <th>10</th>\n",
       "      <td>54</td>\n",
       "      <td>total_rolladvert</td>\n",
       "      <td>0.189910</td>\n",
       "      <td>0.613256</td>\n",
       "    </tr>\n",
       "    <tr>\n",
       "      <th>8</th>\n",
       "      <td>52</td>\n",
       "      <td>total_home</td>\n",
       "      <td>0.123970</td>\n",
       "      <td>0.737227</td>\n",
       "    </tr>\n",
       "    <tr>\n",
       "      <th>32</th>\n",
       "      <td>21</td>\n",
       "      <td>state: MS</td>\n",
       "      <td>0.092361</td>\n",
       "      <td>0.829588</td>\n",
       "    </tr>\n",
       "    <tr>\n",
       "      <th>9</th>\n",
       "      <td>53</td>\n",
       "      <td>total_addfriend</td>\n",
       "      <td>0.079167</td>\n",
       "      <td>0.908755</td>\n",
       "    </tr>\n",
       "    <tr>\n",
       "      <th>51</th>\n",
       "      <td>40</td>\n",
       "      <td>state: AR</td>\n",
       "      <td>0.047177</td>\n",
       "      <td>0.955932</td>\n",
       "    </tr>\n",
       "    <tr>\n",
       "      <th>14</th>\n",
       "      <td>3</td>\n",
       "      <td>state: FL</td>\n",
       "      <td>0.044068</td>\n",
       "      <td>1.000000</td>\n",
       "    </tr>\n",
       "    <tr>\n",
       "      <th>36</th>\n",
       "      <td>25</td>\n",
       "      <td>state: TN</td>\n",
       "      <td>0.000000</td>\n",
       "      <td>1.000000</td>\n",
       "    </tr>\n",
       "    <tr>\n",
       "      <th>39</th>\n",
       "      <td>28</td>\n",
       "      <td>state: RI</td>\n",
       "      <td>0.000000</td>\n",
       "      <td>1.000000</td>\n",
       "    </tr>\n",
       "    <tr>\n",
       "      <th>38</th>\n",
       "      <td>27</td>\n",
       "      <td>state: NV</td>\n",
       "      <td>0.000000</td>\n",
       "      <td>1.000000</td>\n",
       "    </tr>\n",
       "    <tr>\n",
       "      <th>37</th>\n",
       "      <td>26</td>\n",
       "      <td>state: MD</td>\n",
       "      <td>0.000000</td>\n",
       "      <td>1.000000</td>\n",
       "    </tr>\n",
       "    <tr>\n",
       "      <th>0</th>\n",
       "      <td>44</td>\n",
       "      <td>avg_session_length</td>\n",
       "      <td>0.000000</td>\n",
       "      <td>1.000000</td>\n",
       "    </tr>\n",
       "    <tr>\n",
       "      <th>41</th>\n",
       "      <td>30</td>\n",
       "      <td>state: NH</td>\n",
       "      <td>0.000000</td>\n",
       "      <td>1.000000</td>\n",
       "    </tr>\n",
       "    <tr>\n",
       "      <th>35</th>\n",
       "      <td>24</td>\n",
       "      <td>state: IN</td>\n",
       "      <td>0.000000</td>\n",
       "      <td>1.000000</td>\n",
       "    </tr>\n",
       "    <tr>\n",
       "      <th>34</th>\n",
       "      <td>23</td>\n",
       "      <td>state: MN</td>\n",
       "      <td>0.000000</td>\n",
       "      <td>1.000000</td>\n",
       "    </tr>\n",
       "  </tbody>\n",
       "</table>\n",
       "</div>"
      ],
      "text/plain": [
       "    idx                name     score  cumulative_score\n",
       "1    45     days_registered  0.423347          0.423347\n",
       "10   54    total_rolladvert  0.189910          0.613256\n",
       "8    52          total_home  0.123970          0.737227\n",
       "32   21           state: MS  0.092361          0.829588\n",
       "9    53     total_addfriend  0.079167          0.908755\n",
       "51   40           state: AR  0.047177          0.955932\n",
       "14    3           state: FL  0.044068          1.000000\n",
       "36   25           state: TN  0.000000          1.000000\n",
       "39   28           state: RI  0.000000          1.000000\n",
       "38   27           state: NV  0.000000          1.000000\n",
       "37   26           state: MD  0.000000          1.000000\n",
       "0    44  avg_session_length  0.000000          1.000000\n",
       "41   30           state: NH  0.000000          1.000000\n",
       "35   24           state: IN  0.000000          1.000000\n",
       "34   23           state: MN  0.000000          1.000000"
      ]
     },
     "execution_count": 86,
     "metadata": {},
     "output_type": "execute_result"
    }
   ],
   "source": [
    "# get dataframe with feature importance\n",
    "df_feat_imp_dt = extract_feature_imp(cv_dt.bestModel.featureImportances, df_ml, 'features')\n",
    "df_feat_imp_dt.head(15)"
   ]
  },
  {
   "cell_type": "code",
   "execution_count": 87,
   "metadata": {},
   "outputs": [
    {
     "data": {
      "image/png": "[encoded data removed]",
      "text/plain": [
       "<matplotlib.figure.Figure at 0x7f6d2bb4c3c8>"
      ]
     },
     "metadata": {
      "needs_background": "light"
     },
     "output_type": "display_data"
    }
   ],
   "source": [
    "# plot feature score and cumulative score for most important features for tuned decision tree model\n",
    "# keep only top 15 most important features for plotting\n",
    "df_feat_imp_dt_15 = df_feat_imp_dt.head(15)\n",
    "\n",
    "ind = np.arange(len(df_feat_imp_dt_15['name']))\n",
    "\n",
    "fig = plt.figure(figsize = (15,10))\n",
    "plt.bar(ind, df_feat_imp_dt_15['score'], label='Feature score')\n",
    "plt.plot(ind, df_feat_imp_dt_15['cumulative_score'], label='Cumulative score')\n",
    "plt.title('Most important features for tuned decision tree model')\n",
    "plt.legend(loc='upper left')\n",
    "plt.ylabel('Score')\n",
    "plt.yticks(np.arange(0, 1.1, step=0.1))\n",
    "plt.xlabel('Feature')\n",
    "plt.xticks(ind, df_feat_imp_dt_15['name'], rotation=90)\n",
    "plt.show()"
   ]
  },
  {
   "cell_type": "markdown",
   "metadata": {},
   "source": [
    "The above plot indicates the top-15 factors which are most important in predicting churn.  The coefficient represents the weight of the factor and the higher the score the more important the factor.  \n",
    "\n",
    "The most important factors are the number of days a customer has been registered to the service, and the advertisements she/he has been exposed to.  Together both of these factors explain more than half of the churn prediction.  And, top-5 factors account for nearly 80% of the predictive power.  \n",
    "\n",
    "In business situations, where resources are at a premium focusing on fewer areas to have the maximum impact is desirable.\n",
    "\n",
    "As next steps to improve, there are certain areas to look at:\n",
    "- examine the bigger dataset\n",
    "- try to reduce the input features\n"
   ]
  },
  {
   "cell_type": "markdown",
   "metadata": {},
   "source": [
    "# Final Steps\n",
    "Clean up your code, adding comments and renaming variables to make the code easier to read and maintain. Refer to the Spark Project Overview page and Data Scientist Capstone Project Rubric to make sure you are including all components of the capstone project and meet all expectations. Remember, this includes thorough documentation in a README file in a Github repository, as well as a web app or blog post."
   ]
  },
  {
   "cell_type": "code",
   "execution_count": null,
   "metadata": {},
   "outputs": [],
   "source": []
  }
 ],
 "metadata": {
  "kernelspec": {
   "display_name": "Python 3",
   "language": "python",
   "name": "python3"
  },
  "language_info": {
   "codemirror_mode": {
    "name": "ipython",
    "version": 3
   },
   "file_extension": ".py",
   "mimetype": "text/x-python",
   "name": "python",
   "nbconvert_exporter": "python",
   "pygments_lexer": "ipython3",
   "version": "3.6.3"
  }
 },
 "nbformat": 4,
 "nbformat_minor": 2
}
